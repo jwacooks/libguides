{
 "metadata": {
  "name": ""
 },
 "nbformat": 3,
 "nbformat_minor": 0,
 "worksheets": [
  {
   "cells": [
    {
     "cell_type": "heading",
     "level": 1,
     "metadata": {},
     "source": [
      "Creating records for the BU Libraries Research Guides to be ingested into Primo"
     ]
    },
    {
     "cell_type": "markdown",
     "metadata": {},
     "source": [
      "This code could be used to harvest other WordPress web pages."
     ]
    },
    {
     "cell_type": "heading",
     "level": 2,
     "metadata": {},
     "source": [
      "If we haven't done so already, install feedparser"
     ]
    },
    {
     "cell_type": "markdown",
     "metadata": {},
     "source": [
      " sudo pip install feedparser"
     ]
    },
    {
     "cell_type": "heading",
     "level": 2,
     "metadata": {},
     "source": [
      "Import libraries: feedparser and pymarc"
     ]
    },
    {
     "cell_type": "code",
     "collapsed": false,
     "input": [
      "import feedparser\n",
      "from pymarc import Record, Field\n",
      "import urllib2\n",
      "from BeautifulSoup import BeautifulSoup\n",
      "import cgi\n",
      "\n",
      "# setup a variable for excaping HTML chars\n",
      "html_escape_table = {\n",
      "                     \"&\": \"&amp;\",\n",
      "                     '\"': \"&quot;\",\n",
      "                     \"'\": \"&apos;\",\n",
      "                     \">\": \"&gt;\",\n",
      "                     \"<\": \"&lt;\",\n",
      "                     }\n",
      "## define a function that will escape strings of text for use in xml\n",
      "def html_escape(text):\n",
      "    \"\"\"Produce entities within text.\"\"\"\n",
      "    return \"\".join(html_escape_table.get(c,c) for c in text) "
     ],
     "language": "python",
     "metadata": {},
     "outputs": [],
     "prompt_number": 3
    },
    {
     "cell_type": "markdown",
     "metadata": {},
     "source": [
      "#Display xml files that can be used to import metadata from Wordpress\n",
      "From WordPress, we are able to export the research guides. The export is in an RSS format that can be parsed by feedparser"
     ]
    },
    {
     "cell_type": "code",
     "collapsed": false,
     "input": [
      "ls *.xml"
     ],
     "language": "python",
     "metadata": {},
     "outputs": [
      {
       "output_type": "stream",
       "stream": "stdout",
       "text": [
        "bulibraries.wordpress.2014-05-30.xml  bulibraries.wordpress.2014-07-08.xml  guides.xml\r\n"
       ]
      }
     ],
     "prompt_number": 4
    },
    {
     "cell_type": "markdown",
     "metadata": {},
     "source": [
      "use feedparser to load the file"
     ]
    },
    {
     "cell_type": "code",
     "collapsed": false,
     "input": [
      "d = feedparser.parse(r'bulibraries.wordpress.2014-07-08.xml')"
     ],
     "language": "python",
     "metadata": {},
     "outputs": [],
     "prompt_number": 5
    },
    {
     "cell_type": "heading",
     "level": 2,
     "metadata": {},
     "source": [
      "Parse the feed and write it out to a file in OAI-PMH format to be loaded into Primo"
     ]
    },
    {
     "cell_type": "markdown",
     "metadata": {},
     "source": [
      "We are going to open an output file ('guides.xml') and iterate through d to grab the fields for each record that we will write to a file. The output file is formatted as an OAI-PMH file that can be ingested into Primo.\n",
      "Note that there are a few fields that aren't included in the RSS feed. These are SEO fields for description and keywords. In the code below you will see that each guide is briefly loaded and the meta fields pulled from the guide to obtain these additional fields."
     ]
    },
    {
     "cell_type": "code",
     "collapsed": false,
     "input": [
      "## open the xml file and write the header\n",
      "f = open('guides.xml', 'wb')\n",
      "f.write('<?xml version=\"1.0\" encoding=\"UTF-8\"?>\\n')\n",
      "f.write('<OAI-PMH xmlns=\"http://www.openarchives.org/OAI/2.0/\" xmlns:xsi=\"http://www.w3.org/2001/XMLSchema-instance\" xsi:schemaLocation=\"http://www.openarchives.org/OAI/2.0/ http://www.openarchives.org/OAI/2.0/OAI-PMH.xsd\">\\n')\n",
      "f.write('<responseDate>2014-07-09T21:02:57Z</responseDate>\\n')\n",
      "f.write('    <request verb=\"ListRecords\" metadataPrefix=\"oai_dc\" >http://www.bu.edu/library/guides</request>\\n')\n",
      "f.write('<ListRecords>\\n')\n",
      "\n",
      "## write each record\n",
      "i = 0\n",
      "while i < len(d.entries):\n",
      "    if d.entries[i].wp_status == 'publish':\n",
      "        f.write('<record>\\n')\n",
      "        f.write('<header>\\n')\n",
      "        f.write('<identifier>\\n')\n",
      "        #id = d.entries[i].id\n",
      "        id = 'libguide:' + str(i)\n",
      "        f.write(html_escape(id))\n",
      "        f.write('</identifier>\\n')\n",
      "        f.write('<datestamp>2009-09-19T06:00:13Z</datestamp>\\n')\n",
      "        f.write('</header>\\n')\n",
      "        f.write('<metadata>\\n')\n",
      "        f.write('<oai_dc:dc xmlns:oai_dc=\"http://www.openarchives.org/OAI/2.0/oai_dc/\" xmlns:doc=\"http://www.lyncode.com/xoai\" xmlns:xsi=\"http://www.w3.org/2001/XMLSchema-instance\" xmlns:dc=\"http://purl.org/dc/elements/1.1/\" xsi:schemaLocation=\"http://www.openarchives.org/OAI/2.0/oai_dc/ http://www.openarchives.org/OAI/2.0/oai_dc.xsd\">\\n')\n",
      "        \n",
      "        if d.entries[i].has_key('tags'):\n",
      "            tags = d.entries[i].tags\n",
      "            authors = []\n",
      "            subjects = []\n",
      "            for tag in tags:\n",
      "                if tag['scheme'] == 'profile_tax':\n",
      "                    authors.append(tag['term'])                \n",
      "                if tag['scheme'] == 'subject':\n",
      "                    subjects.append(tag['term'])\n",
      "        if d.entries[i].has_key('title'):\n",
      "            title = d.entries[i].title\n",
      "            f.write('<dc:title>')\n",
      "            f.write(html_escape(title.encode('utf-8')))\n",
      "            f.write('</dc:title>\\n')\n",
      "        else:\n",
      "            # each record in Primo has to have a title, so we provide a default title\n",
      "            title = 'untitled'\n",
      "            f.write('<dc:title>')\n",
      "            f.write(html_escape(title.encode('utf-8')))\n",
      "            f.write('</dc:title>\\n')            \n",
      "        if len(authors) > 0 :\n",
      "            for author in authors:\n",
      "                f.write('<dc:creator>')\n",
      "                f.write(html_escape(author.encode('utf-8')))\n",
      "                f.write('</dc:creator>\\n')   \n",
      "        if len(subjects) > 0:\n",
      "            for subject in subjects:\n",
      "                f.write('<dc:subject>')\n",
      "                f.write(html_escape(subject.encode('utf-8')))\n",
      "                f.write('</dc:subject>\\n')  \n",
      "        if d.entries[i].has_key('link'):    \n",
      "            f.write('<dc:identifier>')\n",
      "            f.write(d.entries[i].link)\n",
      "            f.write('</dc:identifier>\\n')             \n",
      "        if d.entries[i].has_key('published'):\n",
      "            f.write('<dc:date>')\n",
      "            f.write(d.entries[i].published)\n",
      "            f.write('</dc:date>') \n",
      "        if d.entries[i].has_key('summary\\n'):\n",
      "            f.write('<dc:abstract>')\n",
      "            f.write(html_escape(d.entries[i].summary.encode('utf-8')))\n",
      "            f.write('</dc:abstract>\\n') \n",
      "        if d.entries[i].has_key('wp_post_type'):\n",
      "            f.write('<dc:type>')\n",
      "            f.write(d.entries[i].wp_post_type)\n",
      "            f.write('</dc:type>\\n') \n",
      "        f.write('<dc:subject>')\n",
      "        f.write('research guide')\n",
      "        f.write('</dc:subject>\\n')  \n",
      "## \n",
      "## The SEO fields aren't included in the RSS feed from WordPress, so we us the link field from the RSS record for each guide\n",
      "## to open load each research guide. We then use BeautifulSoup to grab the \"meta\" fields from the page. These are parsed\n",
      "## in order to grab the description and keyword fields from the page.\n",
      "##\n",
      "        page = urllib2.urlopen(d.entries[i].link)\n",
      "        rpage = page.read()\n",
      "        parsed_html =  BeautifulSoup(rpage)\n",
      "        metaList = parsed_html.fetch('meta')\n",
      "        for l in metaList:\n",
      "            meta = l.attrs\n",
      "            meta_desc = ''\n",
      "            meta_keywords = ''\n",
      "            if len(meta) == 2:\n",
      "                if meta[0][1] == 'description':\n",
      "                    meta_desc = meta[1][1]\n",
      "                    #print 'meta_desc: ' , meta_desc\n",
      "                    f.write('<dc:description>')\n",
      "                    f.write(html_escape(meta_desc.encode('utf-8')))\n",
      "                    f.write('</dc:description>\\n') \n",
      "                if meta[0][1] == 'keywords':\n",
      "                    meta_keywords = meta[1][1]\n",
      "                    #print 'meta_key:  ', meta_keywords  \n",
      "                    f.write('<dc:subject>')\n",
      "                    f.write(html_escape(meta_keywords.encode('utf-8')))\n",
      "                    f.write('</dc:subject>\\n') \n",
      "        f.write('</oai_dc:dc>\\n</metadata>\\n</record>\\n')\n",
      "        print 'Record: ', i\n",
      "        i += 1\n",
      "    else:\n",
      "        i += 1\n",
      "        print 'Record: ', i\n",
      "        continue\n",
      "f.write('</ListRecords>\\n')\n",
      "f.write('</OAI-PMH>\\n')\n",
      "f.close()"
     ],
     "language": "python",
     "metadata": {},
     "outputs": [
      {
       "output_type": "stream",
       "stream": "stdout",
       "text": [
        "Record:  1\n",
        "Record:  2\n",
        "Record:  3\n",
        "Record:  4\n",
        "Record:  5\n",
        "Record:  6\n",
        "Record:  7\n",
        "Record:  8\n",
        "Record:  9\n",
        "Record:  10\n",
        "Record:  11\n",
        "Record:  12\n",
        "Record:  13\n",
        "Record:  14\n",
        "Record:  15\n",
        "Record:  16\n",
        "Record:  17\n",
        "Record:  18\n",
        "Record:  19\n",
        "Record:  20\n",
        "Record:  21\n",
        "Record:  22\n",
        "Record:  23\n",
        "Record:  24\n",
        "Record:  25\n",
        "Record:  26\n",
        "Record:  27\n",
        "Record:  28\n",
        "Record:  29\n",
        "Record:  30\n",
        "Record:  31\n",
        "Record:  32\n",
        "Record:  33\n",
        "Record:  34\n",
        "Record:  35\n",
        "Record:  36\n",
        "Record:  37\n",
        "Record:  38\n",
        "Record:  39\n",
        "Record:  40\n",
        "Record:  41\n",
        "Record:  42\n",
        "Record:  43\n",
        "Record:  44\n",
        "Record:  45\n",
        "Record:  46\n",
        "Record:  47\n",
        "Record:  48\n",
        "Record:  49\n",
        "Record:  50\n",
        "Record:  51\n",
        "Record:  52\n",
        "Record:  53\n",
        "Record:  54\n",
        "Record:  55\n",
        "Record:  56\n",
        "Record:  57\n",
        "Record:  58\n",
        "Record:  59\n",
        "Record:  60\n",
        "Record:  61\n",
        "Record:  62\n",
        "Record:  63\n",
        "Record:  64\n",
        "Record:  65\n",
        "Record:  66\n",
        "Record:  67\n",
        "Record:  68\n",
        "Record:  69\n",
        "Record:  70\n",
        "Record:  71\n",
        "Record:  72\n",
        "Record:  73\n",
        "Record:  74\n",
        "Record:  75\n",
        "Record:  76\n",
        "Record:  77\n",
        "Record:  78\n",
        "Record:  79\n",
        "Record:  80\n",
        "Record:  81\n",
        "Record:  82\n",
        "Record:  83\n",
        "Record:  84\n",
        "Record:  85\n",
        "Record:  86\n",
        "Record:  87\n",
        "Record:  88\n",
        "Record:  89\n",
        "Record:  90\n",
        "Record:  91\n",
        "Record:  92\n",
        "Record:  93\n",
        "Record:  94\n",
        "Record:  95\n",
        "Record:  96\n",
        "Record:  97\n",
        "Record:  98\n",
        "Record:  99\n",
        "Record:  100\n",
        "Record:  101\n",
        "Record:  102\n",
        "Record:  103\n",
        "Record:  104\n",
        "Record:  105\n",
        "Record:  106\n",
        "Record:  107\n",
        "Record:  108\n",
        "Record:  109\n",
        "Record:  110\n",
        "Record:  111\n",
        "Record:  112\n",
        "Record:  113\n",
        "Record:  114\n",
        "Record:  115\n",
        "Record:  116\n",
        "Record:  117\n",
        "Record:  118\n",
        "Record:  119\n",
        "Record:  120\n",
        "Record:  121\n",
        "Record:  122\n",
        "Record:  123\n",
        "Record:  124\n",
        "Record:  125\n",
        "Record:  126\n",
        "Record:  127\n",
        "Record:  128\n",
        "Record:  129\n",
        "Record:  130\n",
        "Record:  131\n",
        "Record:  132\n",
        "Record:  133\n",
        "Record:  134\n",
        "Record:  135\n",
        "Record:  136\n",
        "Record:  137\n",
        "Record:  138\n",
        "Record:  139\n",
        "Record:  140\n",
        "Record:  141\n",
        "Record:  142\n",
        "Record:  143\n",
        "Record:  144\n",
        "Record:  145\n",
        "Record:  146\n",
        "Record:  147\n",
        "Record:  148\n",
        "Record:  149\n",
        "Record:  150\n",
        "Record:  151\n",
        "Record:  152\n",
        "Record:  153\n",
        "Record:  154\n",
        "Record:  155\n",
        "Record:  156\n",
        "Record:  157\n",
        "Record:  158\n",
        "Record:  159\n",
        "Record:  160\n",
        "Record:  161\n",
        "Record:  162\n",
        "Record:  163\n",
        "Record:  164\n",
        "Record:  165\n",
        "Record:  166\n",
        "Record:  167\n",
        "Record:  168\n",
        "Record:  169\n",
        "Record:  170\n",
        "Record:  171\n",
        "Record:  172\n",
        "Record:  173\n",
        "Record:  174\n",
        "Record:  175\n",
        "Record:  176\n",
        "Record:  177\n",
        "Record:  178\n",
        "Record:  179\n",
        "Record:  180\n",
        "Record:  181\n",
        "Record:  182\n",
        "Record:  183\n",
        "Record:  184\n",
        "Record:  185\n",
        "Record:  186\n",
        "Record:  187\n",
        "Record:  188\n",
        "Record:  189\n",
        "Record:  190\n",
        "Record:  191\n",
        "Record:  192\n",
        "Record:  193\n",
        "Record:  194\n",
        "Record:  195\n",
        "Record:  196\n",
        "Record:  197\n",
        "Record:  198\n",
        "Record:  199\n",
        "Record:  200\n",
        "Record:  201\n",
        "Record:  202\n",
        "Record:  203\n",
        "Record:  204\n",
        "Record:  205\n",
        "Record:  206\n",
        "Record:  207\n",
        "Record:  208\n",
        "Record:  209\n",
        "Record:  210\n",
        "Record:  211\n",
        "Record:  212\n",
        "Record:  213\n",
        "Record:  214\n",
        "Record:  215\n",
        "Record:  216\n",
        "Record:  217\n",
        "Record:  218\n",
        "Record:  219\n",
        "Record:  220\n",
        "Record:  221\n",
        "Record:  222\n",
        "Record:  223\n",
        "Record:  224\n",
        "Record:  225\n",
        "Record:  226\n",
        "Record:  227\n",
        "Record:  228\n",
        "Record:  229\n",
        "Record:  230\n",
        "Record:  231\n",
        "Record:  232\n",
        "Record:  233\n",
        "Record:  234\n",
        "Record:  235\n",
        "Record:  236\n",
        "Record:  237\n",
        "Record:  238\n",
        "Record:  239\n",
        "Record:  240\n",
        "Record:  241\n",
        "Record:  242\n",
        "Record:  243\n",
        "Record:  244\n",
        "Record:  245\n",
        "Record:  246\n",
        "Record:  247\n",
        "Record:  248\n",
        "Record:  249\n",
        "Record:  250\n",
        "Record:  251\n",
        "Record:  252\n",
        "Record:  253\n",
        "Record:  254\n",
        "Record:  255\n",
        "Record:  256\n",
        "Record:  257\n",
        "Record:  258\n",
        "Record:  259\n",
        "Record:  260\n",
        "Record:  261\n",
        "Record:  262\n",
        "Record:  263\n",
        "Record:  264\n",
        "Record:  265\n",
        "Record:  266\n",
        "Record:  267\n",
        "Record:  268\n",
        "Record:  269\n",
        "Record:  270\n",
        "Record:  271\n",
        "Record:  272\n",
        "Record:  273\n",
        "Record:  274\n",
        "Record:  275\n",
        "Record:  276\n",
        "Record:  277\n",
        "Record:  278\n",
        "Record:  279\n",
        "Record:  280\n",
        "Record:  281\n",
        "Record:  282\n",
        "Record:  283\n",
        "Record:  284\n",
        "Record:  285\n",
        "Record:  286\n",
        "Record:  287\n",
        "Record:  288\n",
        "Record:  289\n",
        "Record:  290\n",
        "Record:  291\n",
        "Record:  292\n",
        "Record:  293\n",
        "Record:  294\n",
        "Record:  295\n",
        "Record:  296\n",
        "Record:  297\n",
        "Record:  298\n",
        "Record:  299\n",
        "Record:  300\n",
        "Record:  301\n",
        "Record:  302\n",
        "Record:  303\n",
        "Record:  304\n",
        "Record:  305\n",
        "Record:  306\n",
        "Record:  307\n",
        "Record:  308\n",
        "Record:  309\n",
        "Record:  310\n",
        "Record:  311\n",
        "Record:  312\n",
        "Record:  313\n",
        "Record:  314\n",
        "Record:  315\n",
        "Record:  316\n",
        "Record:  317\n",
        "Record:  318\n",
        "Record:  319\n",
        "Record:  320\n",
        "Record:  321\n",
        "Record:  322\n",
        "Record:  323\n",
        "Record:  324\n",
        "Record:  325\n",
        "Record:  326\n",
        "Record:  327\n",
        "Record:  328\n",
        "Record:  329\n",
        "Record:  330\n",
        "Record:  331\n",
        "Record:  332\n",
        "Record:  333\n",
        "Record:  334\n",
        "Record:  335\n",
        "Record:  336\n",
        "Record:  337\n",
        "Record:  338\n",
        "Record:  339\n",
        "Record:  340\n",
        "Record: "
       ]
      },
      {
       "output_type": "stream",
       "stream": "stdout",
       "text": [
        " 340\n",
        "Record: "
       ]
      },
      {
       "output_type": "stream",
       "stream": "stdout",
       "text": [
        " 341\n",
        "Record: "
       ]
      },
      {
       "output_type": "stream",
       "stream": "stdout",
       "text": [
        " 342\n",
        "Record: "
       ]
      },
      {
       "output_type": "stream",
       "stream": "stdout",
       "text": [
        " 343\n",
        "Record: "
       ]
      },
      {
       "output_type": "stream",
       "stream": "stdout",
       "text": [
        " 344\n",
        "Record: "
       ]
      },
      {
       "output_type": "stream",
       "stream": "stdout",
       "text": [
        " 345\n",
        "Record: "
       ]
      },
      {
       "output_type": "stream",
       "stream": "stdout",
       "text": [
        " 346\n",
        "Record: "
       ]
      },
      {
       "output_type": "stream",
       "stream": "stdout",
       "text": [
        " 347\n",
        "Record: "
       ]
      },
      {
       "output_type": "stream",
       "stream": "stdout",
       "text": [
        " 348\n",
        "Record: "
       ]
      },
      {
       "output_type": "stream",
       "stream": "stdout",
       "text": [
        " 349\n",
        "Record: "
       ]
      },
      {
       "output_type": "stream",
       "stream": "stdout",
       "text": [
        " 350\n",
        "Record: "
       ]
      },
      {
       "output_type": "stream",
       "stream": "stdout",
       "text": [
        " 351\n",
        "Record: "
       ]
      },
      {
       "output_type": "stream",
       "stream": "stdout",
       "text": [
        " 352\n",
        "Record: "
       ]
      },
      {
       "output_type": "stream",
       "stream": "stdout",
       "text": [
        " 353\n",
        "Record: "
       ]
      },
      {
       "output_type": "stream",
       "stream": "stdout",
       "text": [
        " 354\n",
        "Record: "
       ]
      },
      {
       "output_type": "stream",
       "stream": "stdout",
       "text": [
        " 355\n",
        "Record: "
       ]
      },
      {
       "output_type": "stream",
       "stream": "stdout",
       "text": [
        " 356\n",
        "Record: "
       ]
      },
      {
       "output_type": "stream",
       "stream": "stdout",
       "text": [
        " 357\n",
        "Record:  359\n",
        "Record:  360\n",
        "Record: "
       ]
      },
      {
       "output_type": "stream",
       "stream": "stdout",
       "text": [
        " 360\n",
        "Record: "
       ]
      },
      {
       "output_type": "stream",
       "stream": "stdout",
       "text": [
        " 361\n",
        "Record: "
       ]
      },
      {
       "output_type": "stream",
       "stream": "stdout",
       "text": [
        " 362\n",
        "Record: "
       ]
      },
      {
       "output_type": "stream",
       "stream": "stdout",
       "text": [
        " 363\n",
        "Record: "
       ]
      },
      {
       "output_type": "stream",
       "stream": "stdout",
       "text": [
        " 364\n",
        "Record: "
       ]
      },
      {
       "output_type": "stream",
       "stream": "stdout",
       "text": [
        " 365\n",
        "Record: "
       ]
      },
      {
       "output_type": "stream",
       "stream": "stdout",
       "text": [
        " 366\n",
        "Record: "
       ]
      },
      {
       "output_type": "stream",
       "stream": "stdout",
       "text": [
        " 367\n",
        "Record: "
       ]
      },
      {
       "output_type": "stream",
       "stream": "stdout",
       "text": [
        " 368\n",
        "Record: "
       ]
      },
      {
       "output_type": "stream",
       "stream": "stdout",
       "text": [
        " 369\n",
        "Record: "
       ]
      },
      {
       "output_type": "stream",
       "stream": "stdout",
       "text": [
        " 370\n",
        "Record: "
       ]
      },
      {
       "output_type": "stream",
       "stream": "stdout",
       "text": [
        " 371\n",
        "Record: "
       ]
      },
      {
       "output_type": "stream",
       "stream": "stdout",
       "text": [
        " 372\n",
        "Record: "
       ]
      },
      {
       "output_type": "stream",
       "stream": "stdout",
       "text": [
        " 373\n",
        "Record: "
       ]
      },
      {
       "output_type": "stream",
       "stream": "stdout",
       "text": [
        " 374\n",
        "Record: "
       ]
      },
      {
       "output_type": "stream",
       "stream": "stdout",
       "text": [
        " 375\n",
        "Record: "
       ]
      },
      {
       "output_type": "stream",
       "stream": "stdout",
       "text": [
        " 376\n",
        "Record: "
       ]
      },
      {
       "output_type": "stream",
       "stream": "stdout",
       "text": [
        " 377\n",
        "Record: "
       ]
      },
      {
       "output_type": "stream",
       "stream": "stdout",
       "text": [
        " 378\n",
        "Record: "
       ]
      },
      {
       "output_type": "stream",
       "stream": "stdout",
       "text": [
        " 379\n",
        "Record: "
       ]
      },
      {
       "output_type": "stream",
       "stream": "stdout",
       "text": [
        " 380\n",
        "Record: "
       ]
      },
      {
       "output_type": "stream",
       "stream": "stdout",
       "text": [
        " 381\n",
        "Record: "
       ]
      },
      {
       "output_type": "stream",
       "stream": "stdout",
       "text": [
        " 382\n",
        "Record: "
       ]
      },
      {
       "output_type": "stream",
       "stream": "stdout",
       "text": [
        " 383\n",
        "Record: "
       ]
      },
      {
       "output_type": "stream",
       "stream": "stdout",
       "text": [
        " 384\n",
        "Record: "
       ]
      },
      {
       "output_type": "stream",
       "stream": "stdout",
       "text": [
        " 385\n",
        "Record: "
       ]
      },
      {
       "output_type": "stream",
       "stream": "stdout",
       "text": [
        " 386\n",
        "Record: "
       ]
      },
      {
       "output_type": "stream",
       "stream": "stdout",
       "text": [
        " 387\n",
        "Record: "
       ]
      },
      {
       "output_type": "stream",
       "stream": "stdout",
       "text": [
        " 388\n",
        "Record: "
       ]
      },
      {
       "output_type": "stream",
       "stream": "stdout",
       "text": [
        " 389\n",
        "Record: "
       ]
      },
      {
       "output_type": "stream",
       "stream": "stdout",
       "text": [
        " 390\n",
        "Record: "
       ]
      },
      {
       "output_type": "stream",
       "stream": "stdout",
       "text": [
        " 391\n",
        "Record: "
       ]
      },
      {
       "output_type": "stream",
       "stream": "stdout",
       "text": [
        " 392\n",
        "Record: "
       ]
      },
      {
       "output_type": "stream",
       "stream": "stdout",
       "text": [
        " 393\n",
        "Record: "
       ]
      },
      {
       "output_type": "stream",
       "stream": "stdout",
       "text": [
        " 394\n",
        "Record: "
       ]
      },
      {
       "output_type": "stream",
       "stream": "stdout",
       "text": [
        " 395\n",
        "Record: "
       ]
      },
      {
       "output_type": "stream",
       "stream": "stdout",
       "text": [
        " 396\n",
        "Record: "
       ]
      },
      {
       "output_type": "stream",
       "stream": "stdout",
       "text": [
        " 397\n",
        "Record: "
       ]
      },
      {
       "output_type": "stream",
       "stream": "stdout",
       "text": [
        " 398\n",
        "Record: "
       ]
      },
      {
       "output_type": "stream",
       "stream": "stdout",
       "text": [
        " 399\n",
        "Record: "
       ]
      },
      {
       "output_type": "stream",
       "stream": "stdout",
       "text": [
        " 400\n",
        "Record: "
       ]
      },
      {
       "output_type": "stream",
       "stream": "stdout",
       "text": [
        " 401\n",
        "Record: "
       ]
      },
      {
       "output_type": "stream",
       "stream": "stdout",
       "text": [
        " 402\n",
        "Record: "
       ]
      },
      {
       "output_type": "stream",
       "stream": "stdout",
       "text": [
        " 403\n",
        "Record: "
       ]
      },
      {
       "output_type": "stream",
       "stream": "stdout",
       "text": [
        " 404\n",
        "Record: "
       ]
      },
      {
       "output_type": "stream",
       "stream": "stdout",
       "text": [
        " 405\n",
        "Record: "
       ]
      },
      {
       "output_type": "stream",
       "stream": "stdout",
       "text": [
        " 406\n",
        "Record: "
       ]
      },
      {
       "output_type": "stream",
       "stream": "stdout",
       "text": [
        " 407\n",
        "Record: "
       ]
      },
      {
       "output_type": "stream",
       "stream": "stdout",
       "text": [
        " 408\n",
        "Record: "
       ]
      },
      {
       "output_type": "stream",
       "stream": "stdout",
       "text": [
        " 409\n",
        "Record: "
       ]
      },
      {
       "output_type": "stream",
       "stream": "stdout",
       "text": [
        " 410\n",
        "Record: "
       ]
      },
      {
       "output_type": "stream",
       "stream": "stdout",
       "text": [
        " 411\n",
        "Record: "
       ]
      },
      {
       "output_type": "stream",
       "stream": "stdout",
       "text": [
        " 412\n",
        "Record: "
       ]
      },
      {
       "output_type": "stream",
       "stream": "stdout",
       "text": [
        " 413\n",
        "Record: "
       ]
      },
      {
       "output_type": "stream",
       "stream": "stdout",
       "text": [
        " 414\n",
        "Record: "
       ]
      },
      {
       "output_type": "stream",
       "stream": "stdout",
       "text": [
        " 415\n",
        "Record: "
       ]
      },
      {
       "output_type": "stream",
       "stream": "stdout",
       "text": [
        " 416\n",
        "Record: "
       ]
      },
      {
       "output_type": "stream",
       "stream": "stdout",
       "text": [
        " 417\n",
        "Record: "
       ]
      },
      {
       "output_type": "stream",
       "stream": "stdout",
       "text": [
        " 418\n",
        "Record: "
       ]
      },
      {
       "output_type": "stream",
       "stream": "stdout",
       "text": [
        " 419\n",
        "Record: "
       ]
      },
      {
       "output_type": "stream",
       "stream": "stdout",
       "text": [
        " 420\n",
        "Record: "
       ]
      },
      {
       "output_type": "stream",
       "stream": "stdout",
       "text": [
        " 421\n",
        "Record: "
       ]
      },
      {
       "output_type": "stream",
       "stream": "stdout",
       "text": [
        " 422\n",
        "Record: "
       ]
      },
      {
       "output_type": "stream",
       "stream": "stdout",
       "text": [
        " 423\n",
        "Record: "
       ]
      },
      {
       "output_type": "stream",
       "stream": "stdout",
       "text": [
        " 424\n",
        "Record: "
       ]
      },
      {
       "output_type": "stream",
       "stream": "stdout",
       "text": [
        " 425\n",
        "Record: "
       ]
      },
      {
       "output_type": "stream",
       "stream": "stdout",
       "text": [
        " 426\n",
        "Record: "
       ]
      },
      {
       "output_type": "stream",
       "stream": "stdout",
       "text": [
        " 427\n",
        "Record: "
       ]
      },
      {
       "output_type": "stream",
       "stream": "stdout",
       "text": [
        " 428\n",
        "Record: "
       ]
      },
      {
       "output_type": "stream",
       "stream": "stdout",
       "text": [
        " 429\n",
        "Record: "
       ]
      },
      {
       "output_type": "stream",
       "stream": "stdout",
       "text": [
        " 430\n",
        "Record: "
       ]
      },
      {
       "output_type": "stream",
       "stream": "stdout",
       "text": [
        " 431\n",
        "Record: "
       ]
      }
     ],
     "prompt_number": "*"
    },
    {
     "cell_type": "markdown",
     "metadata": {},
     "source": [
      "#Use the code below for testing"
     ]
    },
    {
     "cell_type": "code",
     "collapsed": false,
     "input": [
      "i = 0\n",
      "while i < len(d.entries):\n",
      "    if d.entries[i].wp_status == 'publish':\n",
      "#        i += 1\n",
      "#        continue\n",
      "#    else:\n",
      "        print ' '\n",
      "        print 'Record: ' , str(i)\n",
      "        if d.entries[i].has_key('tags'):\n",
      "            tags = d.entries[i].tags\n",
      "            authors = []\n",
      "            subjects = []\n",
      "            for tag in tags:\n",
      "                if tag['scheme'] == 'profile_tax':\n",
      "                    authors.append(tag['term'])                \n",
      "                if tag['scheme'] == 'subject':\n",
      "                    subjects.append(tag['term'])\n",
      "        if d.entries[i].has_key('title'):\n",
      "            print 'title:  ', d.entries[i].title\n",
      "        if len(authors) > 0 :\n",
      "            for author in authors:\n",
      "                print 'author: ', author\n",
      "        if len(subjects) > 0:\n",
      "            for subject in subjects:\n",
      "                print 'subject: ', subject\n",
      "        if d.entries[i].has_key('link'):    \n",
      "            print 'link:   ', d.entries[i].link\n",
      "#        if d.entries[i].has_key('id'):    \n",
      "#            print 'link:   ', d.entries[i].id\n",
      "        if d.entries[i].has_key('published'):\n",
      "            print 'published: ', d.entries[i].published\n",
      "        if d.entries[i].has_key('summary'):\n",
      "            print 'summary: ', d.entries[i].summary\n",
      "        if d.entries[i].has_key('author_detail'):\n",
      "            print 'email: ', d.entries[i].author_detail['name'],'@bu.edu'\n",
      "        #if d.entries[i].has_key('status'):\n",
      "        print 'status: ', d.entries[i].wp_status\n",
      "        if d.entries[i].has_key('wp_postmeta'):\n",
      "            print 'postmeta: ', d.entries[i].wp_postmeta\n",
      "        if d.entries[i].has_key('wp_post_type'):\n",
      "            print 'postType: ', d.entries[i].wp_post_type\n",
      "        if d.entries[i].has_key('excerpt_encoded'):\n",
      "            print 'excerpt: ', d.entries[i].excerpt_encoded\n",
      "        page = urllib2.urlopen(d.entries[i].link)\n",
      "        rpage = page.read()\n",
      "        parsed_html =  BeautifulSoup(rpage)\n",
      "        metaList = parsed_html.fetch('meta')\n",
      "        for l in metaList:\n",
      "            meta = l.attrs\n",
      "            meta_desc = ''\n",
      "            meta_keywords = ''\n",
      "            if len(meta) == 2:\n",
      "                if meta[0][1] == 'description':\n",
      "                    meta_desc = meta[1][1]\n",
      "                    print 'meta_desc: ' , meta_desc\n",
      "                if meta[0][1] == 'keywords':\n",
      "                    meta_keywords = meta[1][1]\n",
      "                    print 'meta_key:  ', meta_keywords  \n",
      "#        print 'meta_desc: ' , meta_desc\n",
      "#        print 'meta_key:  ', meta_keywords\n",
      "        print ' '\n",
      "        i += 1\n",
      "    else:\n",
      "        i += 1\n",
      "        continue"
     ],
     "language": "python",
     "metadata": {},
     "outputs": [
      {
       "output_type": "stream",
       "stream": "stdout",
       "text": [
        " \n",
        "Record:  340\n",
        "title:   WR150: Russian Literature Sources\n",
        "author:  Diane D\u2019Almeida\n",
        "subject:  Literature &amp; Language\n",
        "link:    http://www.bu.edu/library/guide/wr150russian/\n",
        "published:  Mon, 16 May 2011 21:45:49 +0000\n",
        "summary:  \n",
        "email:  dalmeida @bu.edu\n",
        "status:  publish\n",
        "postmeta:  \n",
        "postType:  guide\n",
        "excerpt:  \n",
        " "
       ]
      },
      {
       "output_type": "stream",
       "stream": "stdout",
       "text": [
        "\n",
        " \n",
        "Record:  341\n",
        "title:   African Newspapers in Print\n",
        "author:  Beth Restrick\n",
        "subject:  African Studies\n",
        "link:    http://www.bu.edu/library/guide/africanprimaryarchives/newsresources/currentevents/\n",
        "published:  Mon, 16 May 2011 21:45:57 +0000\n",
        "summary:  \n",
        "email:  shirleyl @bu.edu\n",
        "status:  publish\n",
        "postmeta:  \n",
        "postType:  guide\n",
        "excerpt:  \n",
        " "
       ]
      },
      {
       "output_type": "stream",
       "stream": "stdout",
       "text": [
        "\n",
        " \n",
        "Record:  342\n",
        "title:   Background Sources on Current Events in Africa\n",
        "author:  Beth Restrick\n",
        "subject:  African Studies\n",
        "link:    http://www.bu.edu/library/guide/africanprimaryarchives/newsresources/background/\n",
        "published:  Mon, 16 May 2011 21:45:57 +0000\n",
        "summary:  \n",
        "email:  shirleyl @bu.edu\n",
        "status:  publish\n",
        "postmeta:  \n",
        "postType:  guide\n",
        "excerpt:  \n",
        " "
       ]
      },
      {
       "output_type": "stream",
       "stream": "stdout",
       "text": [
        "\n",
        " \n",
        "Record:  343\n",
        "title:   African News Resources\n",
        "author:  Beth Restrick\n",
        "subject:  African Studies\n",
        "link:    http://www.bu.edu/library/guide/africanprimaryarchives/newsresources/\n",
        "published:  Mon, 16 May 2011 21:45:57 +0000\n",
        "summary:  \n",
        "email:  shirleyl @bu.edu\n",
        "status:  publish\n",
        "postmeta:  \n",
        "postType:  guide\n",
        "excerpt:  \n",
        " "
       ]
      },
      {
       "output_type": "stream",
       "stream": "stdout",
       "text": [
        "\n",
        " \n",
        "Record:  344\n",
        "title:   African Newspapers on Microfilm\n",
        "author:  Beth Restrick\n",
        "subject:  African Studies\n",
        "link:    http://www.bu.edu/library/guide/africanprimaryarchives/newsresources/microfilm/\n",
        "published:  Mon, 16 May 2011 21:45:58 +0000\n",
        "summary:  \n",
        "email:  shirleyl @bu.edu\n",
        "status:  publish\n",
        "postmeta:  \n",
        "postType:  guide\n",
        "excerpt:  \n",
        " "
       ]
      },
      {
       "output_type": "stream",
       "stream": "stdout",
       "text": [
        "\n",
        " \n",
        "Record:  345\n",
        "title:   African Newspapers Online\n",
        "author:  Beth Restrick\n",
        "subject:  African Studies\n",
        "link:    http://www.bu.edu/library/guide/africanprimaryarchives/newsresources/onlinenewspapers/\n",
        "published:  Mon, 16 May 2011 21:45:58 +0000\n",
        "summary:  \n",
        "email:  shirleyl @bu.edu\n",
        "status:  publish\n",
        "postmeta:  \n",
        "postType:  guide\n",
        "excerpt:  \n",
        " "
       ]
      },
      {
       "output_type": "stream",
       "stream": "stdout",
       "text": [
        "\n",
        " \n",
        "Record:  346\n",
        "title:   Newspaper Articles on Nelson Mandela's Release\n",
        "author:  Beth Restrick\n",
        "subject:  African Studies\n",
        "link:    http://www.bu.edu/library/guide/africanprimaryarchives/newsresources/currentevents/mandela/\n",
        "published:  Mon, 16 May 2011 21:45:58 +0000\n",
        "summary:  \n",
        "email:  shirleyl @bu.edu\n",
        "status:  publish\n",
        "postmeta:  \n",
        "postType:  guide\n",
        "excerpt:  \n",
        " "
       ]
      },
      {
       "output_type": "stream",
       "stream": "stdout",
       "text": [
        "\n",
        " \n",
        "Record:  347\n",
        "title:   Primary Sources and Archival Collections: Lesotho - Libya\n",
        "author:  Beth Restrick\n",
        "subject:  African Studies\n",
        "link:    http://www.bu.edu/library/guide/africanprimaryarchives/collections_index/collections_l/\n",
        "published:  Mon, 16 May 2011 21:45:58 +0000\n",
        "summary:  \n",
        "email:  shirleyl @bu.edu\n",
        "status:  publish\n",
        "postmeta:  \n",
        "postType:  guide\n",
        "excerpt:  \n",
        " "
       ]
      },
      {
       "output_type": "stream",
       "stream": "stdout",
       "text": [
        "\n",
        " \n",
        "Record:  348\n",
        "title:   Primary Sources and Archival Collections: Egypt - Ethiopia\n",
        "author:  Beth Restrick\n",
        "subject:  African Studies\n",
        "link:    http://www.bu.edu/library/guide/africanprimaryarchives/collections_index/collections_e/\n",
        "published:  Mon, 16 May 2011 21:45:58 +0000\n",
        "summary:  \n",
        "email:  shirleyl @bu.edu\n",
        "status:  publish\n",
        "postmeta:  \n",
        "postType:  guide\n",
        "excerpt:  \n",
        " "
       ]
      },
      {
       "output_type": "stream",
       "stream": "stdout",
       "text": [
        "\n",
        " \n",
        "Record:  349\n",
        "title:   Primary Sources and Archival Collections: Djibouti\n",
        "author:  Beth Restrick\n",
        "subject:  African Studies\n",
        "link:    http://www.bu.edu/library/guide/africanprimaryarchives/collections_index/collections_d/\n",
        "published:  Mon, 16 May 2011 21:45:58 +0000\n",
        "summary:  \n",
        "email:  shirleyl @bu.edu\n",
        "status:  publish\n",
        "postmeta:  \n",
        "postType:  guide\n",
        "excerpt:  \n",
        " "
       ]
      },
      {
       "output_type": "stream",
       "stream": "stdout",
       "text": [
        "\n",
        " \n",
        "Record:  350\n",
        "title:   Primary Sources and Archival Collections: Gabon - Guinea-Bissau\n",
        "author:  Beth Restrick\n",
        "subject:  African Studies\n",
        "link:    http://www.bu.edu/library/guide/africanprimaryarchives/collections_index/collections_g/\n",
        "published:  Mon, 16 May 2011 21:45:58 +0000\n",
        "summary:  \n",
        "email:  shirleyl @bu.edu\n",
        "status:  publish\n",
        "postmeta:  \n",
        "postType:  guide\n",
        "excerpt:  \n",
        " "
       ]
      },
      {
       "output_type": "stream",
       "stream": "stdout",
       "text": [
        "\n",
        " \n",
        "Record:  351\n",
        "title:   Primary Sources and Archival Collections: Kenya\n",
        "author:  Beth Restrick\n",
        "subject:  African Studies\n",
        "link:    http://www.bu.edu/library/guide/africanprimaryarchives/collections_index/collections_k/\n",
        "published:  Mon, 16 May 2011 21:45:58 +0000\n",
        "summary:  \n",
        "email:  shirleyl @bu.edu\n",
        "status:  publish\n",
        "postmeta:  \n",
        "postType:  guide\n",
        "excerpt:  \n",
        " "
       ]
      },
      {
       "output_type": "stream",
       "stream": "stdout",
       "text": [
        "\n",
        " \n",
        "Record:  352\n",
        "title:   Primary Sources and Archival Collections: Madagascar-Mozambique\n",
        "author:  Beth Restrick\n",
        "subject:  African Studies\n",
        "link:    http://www.bu.edu/library/guide/africanprimaryarchives/collections_index/collections_m/\n",
        "published:  Mon, 16 May 2011 21:45:58 +0000\n",
        "summary:  \n",
        "email:  shirleyl @bu.edu\n",
        "status:  publish\n",
        "postmeta:  \n",
        "postType:  guide\n",
        "excerpt:  \n",
        " "
       ]
      },
      {
       "output_type": "stream",
       "stream": "stdout",
       "text": [
        "\n",
        " \n",
        "Record:  353\n",
        "title:   Primary Sources and Archival Collections: Namibia, Niger, Nigeria\n",
        "author:  Beth Restrick\n",
        "subject:  African Studies\n",
        "link:    http://www.bu.edu/library/guide/africanprimaryarchives/collections_index/collections_n/\n",
        "published:  Mon, 16 May 2011 21:45:58 +0000\n",
        "summary:  \n",
        "email:  shirleyl @bu.edu\n",
        "status:  publish\n",
        "postmeta:  \n",
        "postType:  guide\n",
        "excerpt:  \n",
        " "
       ]
      },
      {
       "output_type": "stream",
       "stream": "stdout",
       "text": [
        "\n",
        " \n",
        "Record:  354\n",
        "title:   Primary Sources and Archival Collections: Rwanda\n",
        "author:  Beth Restrick\n",
        "subject:  African Studies\n",
        "link:    http://www.bu.edu/library/guide/africanprimaryarchives/collections_index/collections_r/\n",
        "published:  Mon, 16 May 2011 21:45:58 +0000\n",
        "summary:  \n",
        "email:  shirleyl @bu.edu\n",
        "status:  publish\n",
        "postmeta:  \n",
        "postType:  guide\n",
        "excerpt:  \n",
        " "
       ]
      },
      {
       "output_type": "stream",
       "stream": "stdout",
       "text": [
        "\n",
        " \n",
        "Record:  355\n",
        "title:   Primary Sources and Archival Collections: Senegal - Swaziland\n",
        "author:  Beth Restrick\n",
        "subject:  African Studies\n",
        "link:    http://www.bu.edu/library/guide/africanprimaryarchives/collections_index/collections_s/\n",
        "published:  Mon, 16 May 2011 21:45:59 +0000\n",
        "summary:  \n",
        "email:  shirleyl @bu.edu\n",
        "status:  publish\n",
        "postmeta:  \n",
        "postType:  guide\n",
        "excerpt:  \n",
        " "
       ]
      },
      {
       "output_type": "stream",
       "stream": "stdout",
       "text": [
        "\n",
        " \n",
        "Record:  356\n",
        "title:   Primary Sources and Archival Collections: Algeria - Angola\n",
        "author:  Beth Restrick\n",
        "subject:  African Studies\n",
        "link:    http://www.bu.edu/library/guide/africanprimaryarchives/collections_index/collections_a/\n",
        "published:  Mon, 16 May 2011 21:45:59 +0000\n",
        "summary:  \n",
        "email:  shirleyl @bu.edu\n",
        "status:  publish\n",
        "postmeta:  \n",
        "postType:  guide\n",
        "excerpt:  \n",
        " "
       ]
      },
      {
       "output_type": "stream",
       "stream": "stdout",
       "text": [
        "\n",
        " \n",
        "Record:  357\n",
        "title:   Primary Sources and Archival Collections: Benin - Botswana\n",
        "author:  Beth Restrick\n",
        "subject:  African Studies\n",
        "link:    http://www.bu.edu/library/guide/africanprimaryarchives/collections_index/collections_b/\n",
        "published:  Mon, 16 May 2011 21:45:59 +0000\n",
        "summary:  \n",
        "email:  shirleyl @bu.edu\n",
        "status:  publish\n",
        "postmeta:  \n",
        "postType:  guide\n",
        "excerpt:  \n",
        " "
       ]
      },
      {
       "output_type": "stream",
       "stream": "stdout",
       "text": [
        "\n",
        " \n",
        "Record:  360\n",
        "title:   Primary Sources and Archival Collections: Cameroon - Cote d'Ivoire\n",
        "author:  Beth Restrick\n",
        "subject:  African Studies\n",
        "link:    http://www.bu.edu/library/guide/africanprimaryarchives/collections_index/collections_c/\n",
        "published:  Mon, 16 May 2011 21:45:59 +0000\n",
        "summary:  \n",
        "email:  shirleyl @bu.edu\n",
        "status:  publish\n",
        "postmeta:  \n",
        "postType:  guide\n",
        "excerpt:  \n",
        " "
       ]
      },
      {
       "output_type": "stream",
       "stream": "stdout",
       "text": [
        "\n",
        " \n",
        "Record:  361\n",
        "title:   Primary Sources and Archival Collections: Tanzania - Tunisia\n",
        "author:  Beth Restrick\n",
        "subject:  African Studies\n",
        "link:    http://www.bu.edu/library/guide/africanprimaryarchives/collections_index/collections_t/\n",
        "published:  Mon, 16 May 2011 21:45:59 +0000\n",
        "summary:  \n",
        "email:  shirleyl @bu.edu\n",
        "status:  publish\n",
        "postmeta:  \n",
        "postType:  guide\n",
        "excerpt:  \n",
        " "
       ]
      },
      {
       "output_type": "stream",
       "stream": "stdout",
       "text": [
        "\n",
        " \n",
        "Record:  362\n",
        "title:   Primary Sources and Archival Collections: Uganda\n",
        "author:  Beth Restrick\n",
        "subject:  African Studies\n",
        "link:    http://www.bu.edu/library/guide/africanprimaryarchives/collections_index/collections_u/\n",
        "published:  Mon, 16 May 2011 21:45:59 +0000\n",
        "summary:  \n",
        "email:  shirleyl @bu.edu\n",
        "status:  publish\n",
        "postmeta:  \n",
        "postType:  guide\n",
        "excerpt:  \n",
        " "
       ]
      },
      {
       "output_type": "stream",
       "stream": "stdout",
       "text": [
        "\n",
        " \n",
        "Record:  363\n",
        "title:   Primary Sources and Archival Collections: Zambia and Zimbabwe\n",
        "author:  Beth Restrick\n",
        "subject:  African Studies\n",
        "link:    http://www.bu.edu/library/guide/africanprimaryarchives/collections_index/collections_z/\n",
        "published:  Mon, 16 May 2011 21:45:59 +0000\n",
        "summary:  \n",
        "email:  shirleyl @bu.edu\n",
        "status:  publish\n",
        "postmeta:  \n",
        "postType:  guide\n",
        "excerpt:  \n",
        " "
       ]
      },
      {
       "output_type": "stream",
       "stream": "stdout",
       "text": [
        "\n",
        " \n",
        "Record:  364\n",
        "title:   Primary Sources and Archival Collections: African Regions\n",
        "author:  Beth Restrick\n",
        "subject:  African Studies\n",
        "link:    http://www.bu.edu/library/guide/africanprimaryarchives/collections_index/collections_regions/\n",
        "published:  Mon, 16 May 2011 21:45:59 +0000\n",
        "summary:  \n",
        "email:  shirleyl @bu.edu\n",
        "status:  publish\n",
        "postmeta:  \n",
        "postType:  guide\n",
        "excerpt:  \n",
        "meta_desc: "
       ]
      },
      {
       "output_type": "stream",
       "stream": "stdout",
       "text": [
        " Primary sources for study of African regions.\n",
        "meta_key:   African Studies, Primary documents, microfilm\n",
        " \n",
        " \n",
        "Record:  365\n",
        "title:   Primary Sources in the ASL\n",
        "author:  Beth Restrick\n",
        "subject:  African Studies\n",
        "link:    http://www.bu.edu/library/guide/africanprimaryarchives/collections_index/collections_various/\n",
        "published:  Mon, 16 May 2011 21:45:59 +0000\n",
        "summary:  \n",
        "email:  shirleyl @bu.edu\n",
        "status:  publish\n",
        "postmeta:  \n",
        "postType:  guide\n",
        "excerpt:  \n",
        " "
       ]
      },
      {
       "output_type": "stream",
       "stream": "stdout",
       "text": [
        "\n",
        " \n",
        "Record:  366\n",
        "title:   Primary Resources and Archival Collections on Africa: Index Page\n",
        "author:  Beth Restrick\n",
        "subject:  African Studies\n",
        "subject:  Area &amp; Cultural Studies\n",
        "link:    http://www.bu.edu/library/guide/africanprimaryarchives/collections_index/\n",
        "published:  Mon, 16 May 2011 21:45:59 +0000\n",
        "summary:  \n",
        "email:  shirleyl @bu.edu\n",
        "status:  publish\n",
        "postmeta:  \n",
        "postType:  guide\n",
        "excerpt:  \n",
        " "
       ]
      },
      {
       "output_type": "stream",
       "stream": "stdout",
       "text": [
        "\n",
        " \n",
        "Record:  367\n",
        "title:   Primary Resources and Archival Collections: Index of Finding Guides\n",
        "author:  Beth Restrick\n",
        "subject:  African Studies\n",
        "link:    http://www.bu.edu/library/guide/africanprimaryarchives/guide_index/\n",
        "published:  Mon, 16 May 2011 21:45:59 +0000\n",
        "summary:  \n",
        "email:  shirleyl @bu.edu\n",
        "status:  publish\n",
        "postmeta:  \n",
        "postType:  guide\n",
        "excerpt:  \n",
        " "
       ]
      },
      {
       "output_type": "stream",
       "stream": "stdout",
       "text": [
        "\n",
        " \n",
        "Record:  368\n",
        "title:   Primary Resources and Archival Collections Held Internationally and in the U.S.\n",
        "author:  Beth Restrick\n",
        "subject:  African Studies\n",
        "link:    http://www.bu.edu/library/guide/africanprimaryarchives/guide_index/collections_other/\n",
        "published:  Mon, 16 May 2011 21:45:59 +0000\n",
        "summary:  \n",
        "email:  shirleyl @bu.edu\n",
        "status:  publish\n",
        "postmeta:  \n",
        "postType:  guide\n",
        "excerpt:  \n",
        " "
       ]
      },
      {
       "output_type": "stream",
       "stream": "stdout",
       "text": [
        "\n",
        " \n",
        "Record:  369\n",
        "title:   Primary Resources and Archival Collections: Algeria - Zimbabwe\n",
        "author:  Beth Restrick\n",
        "subject:  African Studies\n",
        "link:    http://www.bu.edu/library/guide/africanprimaryarchives/guide_index/collection_countries/\n",
        "published:  Mon, 16 May 2011 21:45:59 +0000\n",
        "summary:  \n",
        "email:  shirleyl @bu.edu\n",
        "status:  publish\n",
        "postmeta:  \n",
        "postType:  guide\n",
        "excerpt:  \n",
        " "
       ]
      },
      {
       "output_type": "stream",
       "stream": "stdout",
       "text": [
        "\n",
        " \n",
        "Record:  370\n",
        "title:   Primary Resources and Archival Collections Held in Africa\n",
        "author:  Beth Restrick\n",
        "subject:  African Studies\n",
        "link:    http://www.bu.edu/library/guide/africanprimaryarchives/guide_index/collections_in_africa/\n",
        "published:  Mon, 16 May 2011 21:45:59 +0000\n",
        "summary:  \n",
        "email:  shirleyl @bu.edu\n",
        "status:  publish\n",
        "postmeta:  \n",
        "postType:  guide\n",
        "excerpt:  \n",
        " "
       ]
      },
      {
       "output_type": "stream",
       "stream": "stdout",
       "text": [
        "\n",
        " \n",
        "Record:  371\n",
        "title:   HI588: Women, Power and Culture in Africa\n",
        "author:  Beth Restrick\n",
        "subject:  African Studies\n",
        "subject:  Anthropology\n",
        "subject:  History\n",
        "subject:  Women's Studies\n",
        "link:    http://www.bu.edu/library/guide/hi588/\n",
        "published:  Mon, 16 May 2011 21:45:59 +0000\n",
        "summary:  \n",
        "email:  shirleyl @bu.edu\n",
        "status:  publish\n",
        "postmeta:  \n",
        "postType:  guide\n",
        "excerpt:  \n",
        " "
       ]
      },
      {
       "output_type": "stream",
       "stream": "stdout",
       "text": [
        "\n",
        " \n",
        "Record:  372\n",
        "title:   ID 116: Africa Today\n",
        "author:  Beth Restrick\n",
        "subject:  African Studies\n",
        "link:    http://www.bu.edu/library/guide/id116/\n",
        "published:  Mon, 16 May 2011 21:45:59 +0000\n",
        "summary:  \n",
        "email:  shirleyl @bu.edu\n",
        "status:  publish\n",
        "postmeta:  \n",
        "postType:  guide\n",
        "excerpt:  \n",
        " "
       ]
      },
      {
       "output_type": "stream",
       "stream": "stdout",
       "text": [
        "\n",
        " \n",
        "Record:  373\n",
        "title:   Primary Resources and Archival Collections: Missions\n",
        "author:  Beth Restrick\n",
        "author:  David Westley\n",
        "subject:  African Studies\n",
        "link:    http://www.bu.edu/library/guide/africanprimaryarchives/guide_index/collections_missions/\n",
        "published:  Mon, 16 May 2011 21:46:00 +0000\n",
        "summary:  \n",
        "email:  shirleyl @bu.edu\n",
        "status:  publish\n",
        "postmeta:  \n",
        "postType:  guide\n",
        "excerpt:  \n",
        " "
       ]
      },
      {
       "output_type": "stream",
       "stream": "stdout",
       "text": [
        "\n",
        " \n",
        "Record:  374\n",
        "title:   Primary Resources and Archival Collections: General Guides\n",
        "author:  Beth Restrick\n",
        "subject:  African Studies\n",
        "link:    http://www.bu.edu/library/guide/africanprimaryarchives/guide_index/collections_general/\n",
        "published:  Mon, 16 May 2011 21:46:00 +0000\n",
        "summary:  \n",
        "email:  shirleyl @bu.edu\n",
        "status:  publish\n",
        "postmeta:  \n",
        "postType:  guide\n",
        "excerpt:  \n",
        " "
       ]
      },
      {
       "output_type": "stream",
       "stream": "stdout",
       "text": [
        "\n",
        " \n",
        "Record:  375\n",
        "title:   Primary Resources about Africa: Research Strategies\n",
        "author:  Beth Restrick\n",
        "subject:  African Studies\n",
        "link:    http://www.bu.edu/library/guide/africanprimaryarchives/\n",
        "published:  Mon, 16 May 2011 21:46:00 +0000\n",
        "summary:  \n",
        "email:  shirleyl @bu.edu\n",
        "status:  publish\n",
        "postmeta:  \n",
        "postType:  guide\n",
        "excerpt:  \n",
        " "
       ]
      },
      {
       "output_type": "stream",
       "stream": "stdout",
       "text": [
        "\n",
        " \n",
        "Record:  376\n",
        "title:   Zulu Language Resources\n",
        "author:  Beth Restrick\n",
        "subject:  African Studies\n",
        "link:    http://www.bu.edu/library/guide/zulu/\n",
        "published:  Mon, 16 May 2011 21:46:00 +0000\n",
        "summary:  \n",
        "email:  brestric @bu.edu\n",
        "status:  publish\n",
        "postmeta:  \n",
        "postType:  guide\n",
        "excerpt:  \n",
        " "
       ]
      },
      {
       "output_type": "stream",
       "stream": "stdout",
       "text": [
        "\n",
        " \n",
        "Record:  377\n",
        "title:   Swahili Publishing Terms\n",
        "author:  David Westley\n",
        "subject:  African Studies\n",
        "link:    http://www.bu.edu/library/guide/swahiliterms/\n",
        "published:  Mon, 16 May 2011 21:46:00 +0000\n",
        "summary:  \n",
        "email:  shirleyl @bu.edu\n",
        "status:  publish\n",
        "postmeta:  \n",
        "postType:  guide\n",
        "excerpt:  \n",
        " "
       ]
      },
      {
       "output_type": "stream",
       "stream": "stdout",
       "text": [
        "\n",
        " \n",
        "Record:  378\n",
        "title:   Guide to Using Web Resources for the Study of Africa\n",
        "author:  Beth Restrick\n",
        "author:  David Westley\n",
        "subject:  African Studies\n",
        "link:    http://www.bu.edu/library/guide/africa-webresources/\n",
        "published:  Mon, 16 May 2011 21:46:01 +0000\n",
        "summary:  \n",
        "email:  brestric @bu.edu\n",
        "status:  publish\n",
        "postmeta:  \n",
        "postType:  guide\n",
        "excerpt:  \n",
        " "
       ]
      },
      {
       "output_type": "stream",
       "stream": "stdout",
       "text": [
        "\n",
        " \n",
        "Record:  379\n",
        "title:   Researching Africa: Problems, Initiatives, Resources\n",
        "author:  Beth Restrick\n",
        "subject:  African Studies\n",
        "link:    http://www.bu.edu/library/guide/researchingafrica/\n",
        "published:  Mon, 16 May 2011 21:46:01 +0000\n",
        "summary:  \n",
        "email:  shirleyl @bu.edu\n",
        "status:  publish\n",
        "postmeta:  \n",
        "postType:  guide\n",
        "excerpt:  \n",
        " "
       ]
      },
      {
       "output_type": "stream",
       "stream": "stdout",
       "text": [
        "\n",
        " \n",
        "Record:  380\n",
        "title:   Africa: Getting Started with Research\n",
        "author:  Beth Restrick\n",
        "author:  David Westley\n",
        "subject:  African Studies\n",
        "link:    http://www.bu.edu/library/guide/africaresearch/\n",
        "published:  Mon, 16 May 2011 21:46:01 +0000\n",
        "summary:  \n",
        "email:  shirleyl @bu.edu\n",
        "status:  publish\n",
        "postmeta:  \n",
        "postType:  guide\n",
        "excerpt:  \n",
        " "
       ]
      },
      {
       "output_type": "stream",
       "stream": "stdout",
       "text": [
        "\n",
        " \n",
        "Record:  381\n",
        "title:   Exploring the Culture and Arts of Africa: A Survey of the Literature\n",
        "author:  Beth Restrick\n",
        "author:  David Westley\n",
        "subject:  African Studies\n",
        "link:    http://www.bu.edu/library/guide/africanculture/\n",
        "published:  Mon, 16 May 2011 21:46:01 +0000\n",
        "summary:  \n",
        "email:  brestric @bu.edu\n",
        "status:  publish\n",
        "postmeta:  \n",
        "postType:  guide\n",
        "excerpt:  \n",
        " "
       ]
      },
      {
       "output_type": "stream",
       "stream": "stdout",
       "text": [
        "\n",
        " \n",
        "Record:  382\n",
        "title:   Human Rights and Refugees in Africa\n",
        "author:  David Westley\n",
        "subject:  African Studies\n",
        "link:    http://www.bu.edu/library/guide/humanrights/\n",
        "published:  Mon, 16 May 2011 21:46:01 +0000\n",
        "summary:  \n",
        "email:  brestric @bu.edu\n",
        "status:  publish\n",
        "postmeta:  \n",
        "postType:  guide\n",
        "excerpt:  \n",
        " "
       ]
      },
      {
       "output_type": "stream",
       "stream": "stdout",
       "text": [
        "\n",
        " \n",
        "Record:  383\n",
        "title:   Women's Issues in Africa: Finding Information on the Web\n",
        "author:  Beth Restrick\n",
        "author:  David Westley\n",
        "subject:  African Studies\n",
        "link:    http://www.bu.edu/library/guide/africanwomen/\n",
        "published:  Mon, 16 May 2011 21:46:01 +0000\n",
        "summary:  \n",
        "email:  brestric @bu.edu\n",
        "status:  publish\n",
        "postmeta:  \n",
        "postType:  guide\n",
        "excerpt:  \n",
        " "
       ]
      },
      {
       "output_type": "stream",
       "stream": "stdout",
       "text": [
        "\n",
        " \n",
        "Record:  384\n",
        "title:   Research Guide: Peoples and Cultures of Africa\n",
        "author:  Beth Restrick\n",
        "subject:  African Studies\n",
        "link:    http://www.bu.edu/library/guide/africanpeoples/\n",
        "published:  Mon, 16 May 2011 21:46:01 +0000\n",
        "summary:  \n",
        "email:  shirleyl @bu.edu\n",
        "status:  publish\n",
        "postmeta:  \n",
        "postType:  guide\n",
        "excerpt:  \n",
        " "
       ]
      },
      {
       "output_type": "stream",
       "stream": "stdout",
       "text": [
        "\n",
        " \n",
        "Record:  385\n",
        "title:   Web Resources for the Peoples and Cultures of Africa\n",
        "author:  Beth Restrick\n",
        "subject:  African Studies\n",
        "link:    http://www.bu.edu/library/guide/africa-2/\n",
        "published:  Mon, 16 May 2011 21:46:01 +0000\n",
        "summary:  \n",
        "email:  brestric @bu.edu\n",
        "status:  publish\n",
        "postmeta:  \n",
        "postType:  guide\n",
        "excerpt:  \n",
        " "
       ]
      },
      {
       "output_type": "stream",
       "stream": "stdout",
       "text": [
        "\n",
        " \n",
        "Record:  386\n",
        "title:   American Art\n",
        "subject:  American Studies\n",
        "subject:  Area &amp; Cultural Studies\n",
        "subject:  Arts\n",
        "subject:  Arts &amp; Humanities\n",
        "subject:  Images\n",
        "link:    http://www.bu.edu/library/guide/americanart/\n",
        "published:  Mon, 16 May 2011 21:46:10 +0000\n",
        "summary:  \n",
        "email:  rthomas @bu.edu\n",
        "status:  publish\n",
        "postmeta:  \n",
        "postType:  guide\n",
        "excerpt:  \n",
        " "
       ]
      },
      {
       "output_type": "stream",
       "stream": "stdout",
       "text": [
        "\n",
        " \n",
        "Record:  387\n",
        "title:   Abortion\n",
        "author:  J. Christina Smith\n",
        "subject:  Health\n",
        "subject:  Law &amp; Ethics\n",
        "subject:  Politics and Public Policy\n",
        "subject:  Women's Studies\n",
        "link:    http://www.bu.edu/library/guide/abortion/\n",
        "published:  Mon, 16 May 2011 21:46:10 +0000\n",
        "summary:  \n",
        "email:  jchris @bu.edu\n",
        "status:  publish\n",
        "postmeta:  \n",
        "postType:  guide\n",
        "excerpt:  \n",
        " "
       ]
      },
      {
       "output_type": "stream",
       "stream": "stdout",
       "text": [
        "\n",
        " \n",
        "Record:  388\n",
        "title:   Classical Studies\n",
        "subject:  Archaeology\n",
        "subject:  Area &amp; Cultural Studies\n",
        "subject:  Arts\n",
        "subject:  Arts &amp; Humanities\n",
        "subject:  History\n",
        "subject:  Literature &amp; Language\n",
        "subject:  Middle East\n",
        "link:    http://www.bu.edu/library/guide/classics/\n",
        "published:  Mon, 16 May 2011 21:46:11 +0000\n",
        "summary:  \n",
        "email:  rthomas @bu.edu\n",
        "status:  publish\n",
        "postmeta:  \n",
        "postType:  guide\n",
        "excerpt:  \n",
        " "
       ]
      },
      {
       "output_type": "stream",
       "stream": "stdout",
       "text": [
        "\n",
        " \n",
        "Record:  389\n",
        "title:   Patent and Trademark Searching\n",
        "author:  Paula Carey\n",
        "subject:  Business &amp; Management\n",
        "subject:  Engineering\n",
        "subject:  Science &amp; Engineering\n",
        "link:    http://www.bu.edu/library/guide/patents/\n",
        "published:  Mon, 16 May 2011 21:46:11 +0000\n",
        "summary:  \n",
        "email:  pac @bu.edu\n",
        "status:  publish\n",
        "postmeta:  \n",
        "postType:  guide\n",
        "excerpt:  \n",
        " "
       ]
      },
      {
       "output_type": "stream",
       "stream": "stdout",
       "text": [
        "\n",
        " \n",
        "Record:  390\n",
        "title:   Modern and Contemporary Art\n",
        "author:  Ruth Thomas\n",
        "subject:  Arts\n",
        "subject:  Arts &amp; Humanities\n",
        "subject:  History\n",
        "link:    http://www.bu.edu/library/guide/20thart/\n",
        "published:  Mon, 16 May 2011 21:46:11 +0000\n",
        "summary:  \n",
        "email:  rthomas @bu.edu\n",
        "status:  publish\n",
        "postmeta:  \n",
        "postType:  guide\n",
        "excerpt:  \n",
        " "
       ]
      },
      {
       "output_type": "stream",
       "stream": "stdout",
       "text": [
        "\n",
        " \n",
        "Record:  391\n",
        "title:   Hispanic American Studies\n",
        "author:  J. Christina Smith\n",
        "subject:  American Studies\n",
        "subject:  Area &amp; Cultural Studies\n",
        "subject:  Psychology and Sociology\n",
        "link:    http://www.bu.edu/library/guide/hispanic-american-studies/\n",
        "published:  Mon, 16 May 2011 21:46:11 +0000\n",
        "summary:  \n",
        "email:  jchris @bu.edu\n",
        "status:  publish\n",
        "postmeta:  \n",
        "postType:  guide\n",
        "excerpt:  \n",
        " "
       ]
      },
      {
       "output_type": "stream",
       "stream": "stdout",
       "text": [
        "\n",
        " \n",
        "Record:  392\n",
        "title:   Clothing, Fashion & Appearance\n",
        "author:  J. Christina Smith\n",
        "subject:  Anthropology\n",
        "subject:  Area &amp; Cultural Studies\n",
        "subject:  Arts &amp; Humanities\n",
        "subject:  Psychology and Sociology\n",
        "link:    http://www.bu.edu/library/guide/clothing/\n",
        "published:  Mon, 16 May 2011 21:46:11 +0000\n",
        "summary:  \n",
        "email:  jchris @bu.edu\n",
        "status:  publish\n",
        "postmeta:  \n",
        "postType:  guide\n",
        "excerpt:  \n",
        " "
       ]
      },
      {
       "output_type": "stream",
       "stream": "stdout",
       "text": [
        "\n",
        " \n",
        "Record:  393\n",
        "title:   Standards\n",
        "author:  Paula Carey\n",
        "subject:  Engineering\n",
        "subject:  Interdisciplinary Sciences\n",
        "subject:  Science &amp; Engineering\n",
        "link:    http://www.bu.edu/library/guide/standards/\n",
        "published:  Mon, 16 May 2011 21:46:12 +0000\n",
        "summary:  \n",
        "email:  pac @bu.edu\n",
        "status:  publish\n",
        "postmeta:  \n",
        "postType:  guide\n",
        "excerpt:  \n",
        " "
       ]
      },
      {
       "output_type": "stream",
       "stream": "stdout",
       "text": [
        "\n",
        " \n",
        "Record:  394\n",
        "title:   Social Work\n",
        "author:  Meredith Kirkpatrick\n",
        "subject:  Psychology and Sociology\n",
        "link:    http://www.bu.edu/library/guide/socwork/\n",
        "published:  Mon, 16 May 2011 21:46:12 +0000\n",
        "summary:  \n",
        "email:  meredith @bu.edu\n",
        "status:  publish\n",
        "postmeta:  \n",
        "postType:  guide\n",
        "excerpt:  \n",
        " "
       ]
      },
      {
       "output_type": "stream",
       "stream": "stdout",
       "text": [
        "\n",
        " \n",
        "Record:  395\n",
        "title:   Criminology & Criminal Justice\n",
        "author:  J. Christina Smith\n",
        "subject:  Law &amp; Ethics\n",
        "subject:  Psychology and Sociology\n",
        "link:    http://www.bu.edu/library/guide/criminology-criminaljustice/\n",
        "published:  Mon, 16 May 2011 21:46:12 +0000\n",
        "summary:  \n",
        "email:  jchris @bu.edu\n",
        "status:  publish\n",
        "postmeta:  \n",
        "postType:  guide\n",
        "excerpt:  \n",
        " "
       ]
      },
      {
       "output_type": "stream",
       "stream": "stdout",
       "text": [
        "\n",
        " \n",
        "Record:  396\n",
        "title:   Juvenile Justice\n",
        "author:  J. Christina Smith\n",
        "subject:  Law &amp; Ethics\n",
        "subject:  Psychology and Sociology\n",
        "link:    http://www.bu.edu/library/guide/juvenilejustice/\n",
        "published:  Mon, 16 May 2011 21:46:12 +0000\n",
        "summary:  \n",
        "email:  jchris @bu.edu\n",
        "status:  publish\n",
        "postmeta:  \n",
        "postType:  guide\n",
        "excerpt:  \n",
        " "
       ]
      },
      {
       "output_type": "stream",
       "stream": "stdout",
       "text": [
        "\n",
        " \n",
        "Record:  397\n",
        "title:   Gastronomy\n",
        "author:  J. Christina Smith\n",
        "subject:  Anthropology\n",
        "subject:  Gastronomy\n",
        "link:    http://www.bu.edu/library/guide/gastronomy/\n",
        "published:  Mon, 16 May 2011 21:46:12 +0000\n",
        "summary:  \n",
        "email:  jchris @bu.edu\n",
        "status:  publish\n",
        "postmeta:  \n",
        "postType:  guide\n",
        "excerpt:  \n",
        " "
       ]
      },
      {
       "output_type": "stream",
       "stream": "stdout",
       "text": [
        "\n",
        " \n",
        "Record:  398\n",
        "title:   African American Studies\n",
        "author:  J. Christina Smith\n",
        "subject:  African Studies\n",
        "subject:  American Studies\n",
        "subject:  Area &amp; Cultural Studies\n",
        "subject:  Psychology and Sociology\n",
        "link:    http://www.bu.edu/library/guide/african-american-studies/\n",
        "published:  Mon, 16 May 2011 21:46:12 +0000\n",
        "summary:  \n",
        "email:  jchris @bu.edu\n",
        "status:  publish\n",
        "postmeta:  \n",
        "postType:  guide\n",
        "excerpt:  \n",
        " "
       ]
      },
      {
       "output_type": "stream",
       "stream": "stdout",
       "text": [
        "\n",
        " \n",
        "Record:  399\n",
        "title:   Asian American Studies\n",
        "author:  J. Christina Smith\n",
        "subject:  American Studies\n",
        "subject:  Area &amp; Cultural Studies\n",
        "subject:  Asian Studies\n",
        "subject:  Psychology and Sociology\n",
        "link:    http://www.bu.edu/library/guide/asian-american-studies/\n",
        "published:  Mon, 16 May 2011 21:46:13 +0000\n",
        "summary:  \n",
        "email:  jchris @bu.edu\n",
        "status:  publish\n",
        "postmeta:  \n",
        "postType:  guide\n",
        "excerpt:  \n",
        " "
       ]
      },
      {
       "output_type": "stream",
       "stream": "stdout",
       "text": [
        "\n",
        " \n",
        "Record:  400\n",
        "title:   Japanese Art and Architecture\n",
        "subject:  Arts\n",
        "subject:  Asian Studies\n",
        "subject:  History\n",
        "link:    http://www.bu.edu/library/guide/japanart/\n",
        "published:  Mon, 16 May 2011 21:46:13 +0000\n",
        "summary:  \n",
        "email:  rthomas @bu.edu\n",
        "status:  publish\n",
        "postmeta:  \n",
        "postType:  guide\n",
        "excerpt:  \n",
        " "
       ]
      },
      {
       "output_type": "stream",
       "stream": "stdout",
       "text": [
        "\n",
        " \n",
        "Record:  401\n",
        "title:   LGBTQIA and Gender Identity Studies\n",
        "author:  J. Christina Smith\n",
        "subject:  Law &amp; Ethics\n",
        "subject:  Psychology and Sociology\n",
        "link:    http://www.bu.edu/library/guide/lgbtgenderstudies/\n",
        "published:  Mon, 16 May 2011 21:46:13 +0000\n",
        "summary:  \n",
        "email:  jchris @bu.edu\n",
        "status:  publish\n",
        "postmeta:  \n",
        "postType:  guide\n",
        "excerpt:  \n",
        " "
       ]
      },
      {
       "output_type": "stream",
       "stream": "stdout",
       "text": [
        "\n",
        " \n",
        "Record:  402\n",
        "title:   Bioethics\n",
        "author:  Lisa Philpotts\n",
        "subject:  Health\n",
        "subject:  Law &amp; Ethics\n",
        "subject:  Life Sciences\n",
        "link:    http://www.bu.edu/library/guide/bioethics/\n",
        "published:  Mon, 16 May 2011 21:46:13 +0000\n",
        "summary:  \n",
        "email:  philpo @bu.edu\n",
        "status:  publish\n",
        "postmeta:  \n",
        "postType:  guide\n",
        "excerpt:  \n",
        " "
       ]
      },
      {
       "output_type": "stream",
       "stream": "stdout",
       "text": [
        "\n",
        " \n",
        "Record:  403\n",
        "title:   Stem Cell Research\n",
        "author:  Lisa Philpotts\n",
        "subject:  Health\n",
        "subject:  Life Sciences\n",
        "link:    http://www.bu.edu/library/guide/stemcell/\n",
        "published:  Mon, 16 May 2011 21:46:13 +0000\n",
        "summary:  \n",
        "email:  philpo @bu.edu\n",
        "status:  publish\n",
        "postmeta:  \n",
        "postType:  guide\n",
        "excerpt:  \n",
        " "
       ]
      },
      {
       "output_type": "stream",
       "stream": "stdout",
       "text": [
        "\n",
        " \n",
        "Record:  404\n",
        "title:   Oral History & Family History\n",
        "author:  J. Christina Smith\n",
        "subject:  American Studies\n",
        "subject:  History\n",
        "link:    http://www.bu.edu/library/guide/oralhistory/\n",
        "published:  Mon, 16 May 2011 21:46:13 +0000\n",
        "summary:  \n",
        "email:  jchris @bu.edu\n",
        "status:  publish\n",
        "postmeta:  \n",
        "postType:  guide\n",
        "excerpt:  \n",
        " "
       ]
      },
      {
       "output_type": "stream",
       "stream": "stdout",
       "text": [
        "\n",
        " \n",
        "Record:  405\n",
        "title:   Smoking and Tobacco\n",
        "author:  J. Christina Smith\n",
        "subject:  Health\n",
        "subject:  Politics and Public Policy\n",
        "subject:  Psychology and Sociology\n",
        "link:    http://www.bu.edu/library/guide/smokingandtobacco/\n",
        "published:  Mon, 16 May 2011 21:46:14 +0000\n",
        "summary:  \n",
        "email:  jchris @bu.edu\n",
        "status:  publish\n",
        "postmeta:  \n",
        "postType:  guide\n",
        "excerpt:  \n",
        " "
       ]
      },
      {
       "output_type": "stream",
       "stream": "stdout",
       "text": [
        "\n",
        " \n",
        "Record:  406\n",
        "title:   Biomedical Engineering\n",
        "author:  Paula Carey\n",
        "subject:  Engineering\n",
        "link:    http://www.bu.edu/library/guide/biomed/\n",
        "published:  Mon, 16 May 2011 21:46:15 +0000\n",
        "summary:  \n",
        "email:  pac @bu.edu\n",
        "status:  publish\n",
        "postmeta:  \n",
        "postType:  guide\n",
        "excerpt:  \n",
        " "
       ]
      },
      {
       "output_type": "stream",
       "stream": "stdout",
       "text": [
        "\n",
        " \n",
        "Record:  407\n",
        "title:   Chemistry\n",
        "author:  J.D. Kotula\n",
        "subject:  Physical Sciences\n",
        "link:    http://www.bu.edu/library/guide/chemrg/\n",
        "published:  Mon, 16 May 2011 21:46:15 +0000\n",
        "summary:  \n",
        "email:  jdkotula @bu.edu\n",
        "status:  publish\n",
        "postmeta:  \n",
        "postType:  guide\n",
        "excerpt:  \n",
        " "
       ]
      },
      {
       "output_type": "stream",
       "stream": "stdout",
       "text": [
        "\n",
        " \n",
        "Record:  408\n",
        "title:   Computer Science\n",
        "author:  J.D. Kotula\n",
        "subject:  Mathematics, Computer Science and Statistics\n",
        "link:    http://www.bu.edu/library/guide/csrg/\n",
        "published:  Mon, 16 May 2011 21:46:15 +0000\n",
        "summary:  \n",
        "email:  jdkotula @bu.edu\n",
        "status:  publish\n",
        "postmeta:  \n",
        "postType:  guide\n",
        "excerpt:  \n",
        " "
       ]
      },
      {
       "output_type": "stream",
       "stream": "stdout",
       "text": [
        "\n",
        " \n",
        "Record:  409\n",
        "title:   Electrical & Computer Engineering\n",
        "author:  Paula Carey\n",
        "subject:  Engineering\n",
        "link:    http://www.bu.edu/library/guide/ece/\n",
        "published:  Mon, 16 May 2011 21:46:15 +0000\n",
        "summary:  \n",
        "email:  pac @bu.edu\n",
        "status:  publish\n",
        "postmeta:  \n",
        "postType:  guide\n",
        "excerpt:  \n",
        " "
       ]
      },
      {
       "output_type": "stream",
       "stream": "stdout",
       "text": [
        "\n",
        " \n",
        "Record:  410\n",
        "title:   Ecology\n",
        "author:  Jenna Ryan\n",
        "subject:  Life Sciences\n",
        "link:    http://www.bu.edu/library/guide/ecologyguide/\n",
        "published:  Mon, 16 May 2011 21:46:15 +0000\n",
        "summary:  \n",
        "email:  jennary @bu.edu\n",
        "status:  publish\n",
        "postmeta:  \n",
        "postType:  guide\n",
        "excerpt:  \n",
        " "
       ]
      },
      {
       "output_type": "stream",
       "stream": "stdout",
       "text": [
        "\n",
        " \n",
        "Record:  411\n",
        "title:   Massachusetts Geology\n",
        "author:  Jenna Ryan\n",
        "subject:  Physical Sciences\n",
        "subject:  Urban Studies\n",
        "link:    http://www.bu.edu/library/guide/gmassrg/\n",
        "published:  Mon, 16 May 2011 21:46:15 +0000\n",
        "summary:  \n",
        "email:  jennary @bu.edu\n",
        "status:  publish\n",
        "postmeta:  \n",
        "postType:  guide\n",
        "excerpt:  \n",
        " "
       ]
      },
      {
       "output_type": "stream",
       "stream": "stdout",
       "text": [
        "\n",
        " \n",
        "Record:  412\n",
        "title:   Mathematics\n",
        "author:  Paula Carey\n",
        "subject:  Mathematics, Computer Science and Statistics\n",
        "link:    http://www.bu.edu/library/guide/mathrg/\n",
        "published:  Mon, 16 May 2011 21:46:16 +0000\n",
        "summary:  \n",
        "email:  pac @bu.edu\n",
        "status:  publish\n",
        "postmeta:  \n",
        "postType:  guide\n",
        "excerpt:  \n",
        " "
       ]
      },
      {
       "output_type": "stream",
       "stream": "stdout",
       "text": [
        "\n",
        " \n",
        "Record:  413\n",
        "title:   Marine Biology\n",
        "author:  Jenna Ryan\n",
        "subject:  Life Sciences\n",
        "link:    http://www.bu.edu/library/guide/marinebioguide/\n",
        "published:  Mon, 16 May 2011 21:46:16 +0000\n",
        "summary:  \n",
        "email:  jennary @bu.edu\n",
        "status:  publish\n",
        "postmeta:  \n",
        "postType:  guide\n",
        "excerpt:  \n",
        " "
       ]
      },
      {
       "output_type": "stream",
       "stream": "stdout",
       "text": [
        "\n",
        " \n",
        "Record:  414\n",
        "title:   Mathematical Statistics\n",
        "author:  Paula Carey\n",
        "subject:  Mathematics, Computer Science and Statistics\n",
        "link:    http://www.bu.edu/library/guide/mathstats/\n",
        "published:  Mon, 16 May 2011 21:46:16 +0000\n",
        "summary:  \n",
        "email:  pac @bu.edu\n",
        "status:  publish\n",
        "postmeta:  \n",
        "postType:  guide\n",
        "excerpt:  \n",
        " "
       ]
      },
      {
       "output_type": "stream",
       "stream": "stdout",
       "text": [
        "\n",
        " \n",
        "Record:  415\n",
        "title:   Mechanical Engineering\n",
        "author:  Paula Carey\n",
        "subject:  Engineering\n",
        "link:    http://www.bu.edu/library/guide/mech/\n",
        "published:  Mon, 16 May 2011 21:46:16 +0000\n",
        "summary:  \n",
        "email:  pac @bu.edu\n",
        "status:  publish\n",
        "postmeta:  \n",
        "postType:  guide\n",
        "excerpt:  \n",
        " "
       ]
      },
      {
       "output_type": "stream",
       "stream": "stdout",
       "text": [
        "\n",
        " \n",
        "Record:  416\n",
        "title:   Nanotechnology\n",
        "author:  Paula Carey\n",
        "subject:  Engineering\n",
        "subject:  Interdisciplinary Sciences\n",
        "link:    http://www.bu.edu/library/guide/nanotech/\n",
        "published:  Mon, 16 May 2011 21:46:16 +0000\n",
        "summary:  \n",
        "email:  pac @bu.edu\n",
        "status:  publish\n",
        "postmeta:  \n",
        "postType:  guide\n",
        "excerpt:  \n",
        " "
       ]
      },
      {
       "output_type": "stream",
       "stream": "stdout",
       "text": [
        "\n",
        " \n",
        "Record:  417\n",
        "title:   Nonlinear Science\n",
        "author:  Paula Carey\n",
        "subject:  Engineering\n",
        "subject:  Interdisciplinary Sciences\n",
        "link:    http://www.bu.edu/library/guide/nonlinear/\n",
        "published:  Mon, 16 May 2011 21:46:16 +0000\n",
        "summary:  \n",
        "email:  pac @bu.edu\n",
        "status:  publish\n",
        "postmeta:  \n",
        "postType:  guide\n",
        "excerpt:  \n",
        " "
       ]
      },
      {
       "output_type": "stream",
       "stream": "stdout",
       "text": [
        "\n",
        " \n",
        "Record:  418\n",
        "title:   Photonics\n",
        "author:  Paula Carey\n",
        "subject:  Engineering\n",
        "subject:  Interdisciplinary Sciences\n",
        "subject:  Science &amp; Engineering\n",
        "link:    http://www.bu.edu/library/guide/photon/\n",
        "published:  Mon, 16 May 2011 21:46:17 +0000\n",
        "summary:  \n",
        "email:  pac @bu.edu\n",
        "status:  publish\n",
        "postmeta:  \n",
        "postType:  guide\n",
        "excerpt:  \n",
        " "
       ]
      },
      {
       "output_type": "stream",
       "stream": "stdout",
       "text": [
        "\n",
        " \n",
        "Record:  419\n",
        "title:   Physics\n",
        "author:  Mary Foppiani\n",
        "subject:  Physical Sciences\n",
        "link:    http://www.bu.edu/library/guide/phyguide/\n",
        "published:  Mon, 16 May 2011 21:46:17 +0000\n",
        "summary:  \n",
        "email:  foppiani @bu.edu\n",
        "status:  publish\n",
        "postmeta:  \n",
        "postType:  guide\n",
        "excerpt:  \n",
        " "
       ]
      },
      {
       "output_type": "stream",
       "stream": "stdout",
       "text": [
        "\n",
        " \n",
        "Record:  420\n",
        "title:   Women's Studies\n",
        "author:  J. Christina Smith\n",
        "subject:  Women's Studies\n",
        "link:    http://www.bu.edu/library/guide/womens-studies/\n",
        "published:  Mon, 16 May 2011 21:46:17 +0000\n",
        "summary:  \n",
        "email:  jchris @bu.edu\n",
        "status:  publish\n",
        "postmeta:  \n",
        "postType:  guide\n",
        "excerpt:  \n",
        " "
       ]
      },
      {
       "output_type": "stream",
       "stream": "stdout",
       "text": [
        "\n",
        " \n",
        "Record:  421\n",
        "title:   Animal Rights\n",
        "author:  Meredith Kirkpatrick\n",
        "subject:  Law &amp; Ethics\n",
        "link:    http://www.bu.edu/library/guide/animalrights/\n",
        "published:  Mon, 16 May 2011 21:46:17 +0000\n",
        "summary:  \n",
        "email:  meredith @bu.edu\n",
        "status:  publish\n",
        "postmeta:  \n",
        "postType:  guide\n",
        "excerpt:  \n",
        " "
       ]
      },
      {
       "output_type": "stream",
       "stream": "stdout",
       "text": [
        "\n",
        " \n",
        "Record:  422\n",
        "title:   Women in the United States in the 19th Century\n",
        "author:  J. Christina Smith\n",
        "subject:  American Studies\n",
        "subject:  History\n",
        "subject:  Women's Studies\n",
        "link:    http://www.bu.edu/library/guide/women19thcenturyus/\n",
        "published:  Mon, 16 May 2011 21:46:17 +0000\n",
        "summary:  \n",
        "email:  jchris @bu.edu\n",
        "status:  publish\n",
        "postmeta:  \n",
        "postType:  guide\n",
        "excerpt:  \n",
        " "
       ]
      },
      {
       "output_type": "stream",
       "stream": "stdout",
       "text": [
        "\n",
        " \n",
        "Record:  423\n",
        "title:   United States History\n",
        "author:  Donald Altschiller\n",
        "subject:  History\n",
        "link:    http://www.bu.edu/library/guide/americanhistory/\n",
        "published:  Mon, 16 May 2011 21:46:17 +0000\n",
        "summary:  \n",
        "email:  donaltsc @bu.edu\n",
        "status:  publish\n",
        "postmeta:  \n",
        "postType:  guide\n",
        "excerpt:  \n",
        " "
       ]
      },
      {
       "output_type": "stream",
       "stream": "stdout",
       "text": [
        "\n",
        " \n",
        "Record:  424\n",
        "title:   Women in Developing Countries\n",
        "author:  J. Christina Smith\n",
        "subject:  Women's Studies\n",
        "link:    http://www.bu.edu/library/guide/women-in-developing-countries/\n",
        "published:  Mon, 16 May 2011 21:46:17 +0000\n",
        "summary:  \n",
        "email:  jchris @bu.edu\n",
        "status:  publish\n",
        "postmeta:  \n",
        "postType:  guide\n",
        "excerpt:  \n",
        " "
       ]
      },
      {
       "output_type": "stream",
       "stream": "stdout",
       "text": [
        "\n",
        " \n",
        "Record:  425\n",
        "title:   Drug Abuse\n",
        "author:  J. Christina Smith\n",
        "subject:  Health\n",
        "subject:  Law &amp; Ethics\n",
        "subject:  Politics and Public Policy\n",
        "subject:  Psychology and Sociology\n",
        "link:    http://www.bu.edu/library/guide/drugabuse/\n",
        "published:  Mon, 16 May 2011 21:46:17 +0000\n",
        "summary:  \n",
        "email:  jchris @bu.edu\n",
        "status:  publish\n",
        "postmeta:  \n",
        "postType:  guide\n",
        "excerpt:  \n",
        " "
       ]
      },
      {
       "output_type": "stream",
       "stream": "stdout",
       "text": [
        "\n",
        " \n",
        "Record:  426\n",
        "title:   Philosophy\n",
        "author:  J. Christina Smith\n",
        "subject:  Religion and Philosophy\n",
        "link:    http://www.bu.edu/library/guide/philosophy/\n",
        "published:  Mon, 16 May 2011 21:46:18 +0000\n",
        "summary:  \n",
        "email:  jchris @bu.edu\n",
        "status:  publish\n",
        "postmeta:  \n",
        "postType:  guide\n",
        "excerpt:  \n",
        " "
       ]
      },
      {
       "output_type": "stream",
       "stream": "stdout",
       "text": [
        "\n",
        " \n",
        "Record:  427\n",
        "title:   Alcoholism\n",
        "author:  J. Christina Smith\n",
        "subject:  Health\n",
        "subject:  Psychology and Sociology\n",
        "link:    http://www.bu.edu/library/guide/alcoholism/\n",
        "published:  Mon, 16 May 2011 21:46:18 +0000\n",
        "summary:  \n",
        "email:  jchris @bu.edu\n",
        "status:  publish\n",
        "postmeta:  \n",
        "postType:  guide\n",
        "excerpt:  \n",
        " "
       ]
      },
      {
       "output_type": "stream",
       "stream": "stdout",
       "text": [
        "\n",
        " \n",
        "Record:  428\n",
        "title:   Art History\n",
        "subject:  American Studies\n",
        "subject:  Archaeology\n",
        "subject:  Arts\n",
        "subject:  Arts &amp; Humanities\n",
        "subject:  Asian Studies\n",
        "subject:  History\n",
        "subject:  Images\n",
        "subject:  Middle East\n",
        "subject:  Urban Studies\n",
        "link:    http://www.bu.edu/library/guide/arthistory/\n",
        "published:  Mon, 16 May 2011 21:46:18 +0000\n",
        "summary:  \n",
        "email:  rthomas @bu.edu\n",
        "status:  publish\n",
        "postmeta:  \n",
        "postType:  guide\n",
        "excerpt:  \n",
        " "
       ]
      },
      {
       "output_type": "stream",
       "stream": "stdout",
       "text": [
        "\n",
        " \n",
        "Record:  429\n",
        "title:   Plant Biology\n",
        "author:  Jenna Ryan\n",
        "subject:  Life Sciences\n",
        "link:    http://www.bu.edu/library/guide/plantbio/\n",
        "published:  Mon, 16 May 2011 21:46:18 +0000\n",
        "summary:  \n",
        "email:  jennary @bu.edu\n",
        "status:  publish\n",
        "postmeta:  \n",
        "postType:  guide\n",
        "excerpt:  \n",
        " "
       ]
      },
      {
       "output_type": "stream",
       "stream": "stdout",
       "text": [
        "\n",
        " \n",
        "Record:  430\n",
        "title:   German Language and Literature - in the Library and on the Web\n",
        "author:  Diane D\u2019Almeida\n",
        "subject:  Arts &amp; Humanities\n",
        "subject:  Literature &amp; Language\n",
        "link:    http://www.bu.edu/library/guide/german/\n",
        "published:  Mon, 16 May 2011 21:46:18 +0000\n",
        "summary:  \n",
        "email:  dalmeida @bu.edu\n",
        "status:  publish\n",
        "postmeta:  \n",
        "postType:  guide\n",
        "excerpt:  \n",
        " "
       ]
      },
      {
       "output_type": "stream",
       "stream": "stdout",
       "text": [
        "\n",
        " \n",
        "Record:  431\n",
        "title:   Anthropology\n",
        "author:  J. Christina Smith\n",
        "subject:  African Studies\n",
        "subject:  Anthropology\n",
        "link:    http://www.bu.edu/library/guide/anthropology/\n",
        "published:  Mon, 16 May 2011 21:46:18 +0000\n",
        "summary:  \n",
        "email:  jchris @bu.edu\n",
        "status:  publish\n",
        "postmeta:  \n",
        "postType:  guide\n",
        "excerpt:  \n",
        " "
       ]
      },
      {
       "output_type": "stream",
       "stream": "stdout",
       "text": [
        "\n",
        " \n",
        "Record:  432\n",
        "title:   Death Studies\n",
        "author:  J. Christina Smith\n",
        "subject:  Psychology and Sociology\n",
        "link:    http://www.bu.edu/library/guide/deathstudies/\n",
        "published:  Mon, 16 May 2011 21:46:19 +0000\n",
        "summary:  \n",
        "email:  jchris @bu.edu\n",
        "status:  publish\n",
        "postmeta:  \n",
        "postType:  guide\n",
        "excerpt:  \n",
        " "
       ]
      },
      {
       "output_type": "stream",
       "stream": "stdout",
       "text": [
        "\n",
        " \n",
        "Record:  433\n",
        "title:   Italian Language and Literature - in the Library and on the Web\n",
        "author:  Diane D\u2019Almeida\n",
        "subject:  Arts &amp; Humanities\n",
        "subject:  Literature &amp; Language\n",
        "link:    http://www.bu.edu/library/guide/italian/\n",
        "published:  Mon, 16 May 2011 21:46:19 +0000\n",
        "summary:  \n",
        "email:  dalmeida @bu.edu\n",
        "status:  publish\n",
        "postmeta:  \n",
        "postType:  guide\n",
        "excerpt:  \n",
        " "
       ]
      },
      {
       "output_type": "stream",
       "stream": "stdout",
       "text": [
        "\n",
        " \n",
        "Record:  434\n",
        "title:   American Architecture\n",
        "author:  Ruth Thomas\n",
        "subject:  American Studies\n",
        "subject:  Archaeology\n",
        "subject:  Arts\n",
        "subject:  History\n",
        "subject:  Images\n",
        "subject:  Urban Studies\n",
        "link:    http://www.bu.edu/library/guide/americanarchitecture/\n",
        "published:  Mon, 16 May 2011 21:46:19 +0000\n",
        "summary:  \n",
        "email:  rthomas @bu.edu\n",
        "status:  publish\n",
        "postmeta:  \n",
        "postType:  guide\n",
        "excerpt:  \n",
        " "
       ]
      },
      {
       "output_type": "stream",
       "stream": "stdout",
       "text": [
        "\n",
        " \n",
        "Record:  435\n",
        "title:   American Studies\n",
        "author:  Ruth Thomas\n",
        "subject:  American Studies\n",
        "subject:  Archaeology\n",
        "subject:  Arts\n",
        "subject:  Arts &amp; Humanities\n",
        "subject:  History\n",
        "subject:  Literature &amp; Language\n",
        "subject:  Women's Studies\n",
        "link:    http://www.bu.edu/library/guide/americanstudies/\n",
        "published:  Mon, 16 May 2011 21:46:19 +0000\n",
        "summary:  \n",
        "email:  rthomas @bu.edu\n",
        "status:  publish\n",
        "postmeta:  \n",
        "postType:  guide\n",
        "excerpt:  \n",
        " "
       ]
      },
      {
       "output_type": "stream",
       "stream": "stdout",
       "text": [
        "\n",
        " \n",
        "Record:  436\n",
        "title:   Guns and Gun Control\n",
        "author:  J. Christina Smith\n",
        "subject:  Law &amp; Ethics\n",
        "subject:  Politics and Public Policy\n",
        "subject:  Psychology and Sociology\n",
        "link:    http://www.bu.edu/library/guide/guns-and-gun-control/\n",
        "published:  Mon, 16 May 2011 21:46:19 +0000\n",
        "summary:  \n",
        "email:  jchris @bu.edu\n",
        "status:  publish\n",
        "postmeta:  \n",
        "postType:  guide\n",
        "excerpt:  \n",
        " "
       ]
      },
      {
       "output_type": "stream",
       "stream": "stdout",
       "text": [
        "\n",
        " \n",
        "Record:  437\n",
        "title:   Islamic Art and Architecture\n",
        "author:  Ruth Thomas\n",
        "subject:  African Studies\n",
        "subject:  Archaeology\n",
        "subject:  Area &amp; Cultural Studies\n",
        "subject:  Arts\n",
        "subject:  Arts &amp; Humanities\n",
        "subject:  History\n",
        "subject:  Literature &amp; Language\n",
        "subject:  Middle East\n",
        "subject:  Religion and Philosophy\n",
        "link:    http://www.bu.edu/library/guide/islamicart/\n",
        "published:  Mon, 16 May 2011 21:46:19 +0000\n",
        "summary:  \n",
        "email:  rthomas @bu.edu\n",
        "status:  publish\n",
        "postmeta:  \n",
        "postType:  guide\n",
        "excerpt:  \n",
        " "
       ]
      },
      {
       "output_type": "stream",
       "stream": "stdout",
       "text": [
        "\n",
        " \n",
        "Record:  438\n",
        "title:   Archaeology\n",
        "author:  Ruth Thomas\n",
        "subject:  African Studies\n",
        "subject:  American Studies\n",
        "subject:  Anthropology\n",
        "subject:  Archaeology\n",
        "subject:  Arts\n",
        "subject:  History\n",
        "subject:  Middle East\n",
        "link:    http://www.bu.edu/library/guide/archaeology/\n",
        "published:  Mon, 16 May 2011 21:46:19 +0000\n",
        "summary:  \n",
        "email:  rthomas @bu.edu\n",
        "status:  publish\n",
        "postmeta:  \n",
        "postType:  guide\n",
        "excerpt:  \n",
        " "
       ]
      },
      {
       "output_type": "stream",
       "stream": "stdout",
       "text": [
        "\n",
        " \n",
        "Record:  439\n",
        "title:   Citing Your Sources: CSE (Council of Science Editors) Style\n",
        "author:  Paula Carey\n",
        "subject:  Interdisciplinary Sciences\n",
        "subject:  Science &amp; Engineering\n",
        "link:    http://www.bu.edu/library/guide/csestyle/\n",
        "published:  Mon, 16 May 2011 21:46:19 +0000\n",
        "summary:  \n",
        "email:  pac @bu.edu\n",
        "status:  publish\n",
        "postmeta:  \n",
        "postType:  guide\n",
        "excerpt:  \n",
        " "
       ]
      },
      {
       "output_type": "stream",
       "stream": "stdout",
       "text": [
        "\n",
        " \n",
        "Record:  440\n",
        "title:   Astronomy & Astrophysics\n",
        "author:  Mary Foppiani\n",
        "subject:  Physical Sciences\n",
        "link:    http://www.bu.edu/library/guide/astro/\n",
        "published:  Mon, 16 May 2011 21:46:19 +0000\n",
        "summary:  \n",
        "email:  foppiani @bu.edu\n",
        "status:  publish\n",
        "postmeta:  \n",
        "postType:  guide\n",
        "excerpt:  \n",
        " "
       ]
      },
      {
       "output_type": "stream",
       "stream": "stdout",
       "text": [
        "\n",
        " \n",
        "Record:  441\n",
        "title:   Spanish and Latin American Language and Literature - in the Library and on the Web\n",
        "author:  Diane D\u2019Almeida\n",
        "subject:  Arts &amp; Humanities\n",
        "subject:  Literature &amp; Language\n",
        "link:    http://www.bu.edu/library/guide/spanish/\n",
        "published:  Mon, 16 May 2011 21:46:20 +0000\n",
        "summary:  \n",
        "email:  dalmeida @bu.edu\n",
        "status:  publish\n",
        "postmeta:  \n",
        "postType:  guide\n",
        "excerpt:  \n",
        " "
       ]
      },
      {
       "output_type": "stream",
       "stream": "stdout",
       "text": [
        "\n",
        " \n",
        "Record:  442\n",
        "title:   Sociology\n",
        "author:  J. Christina Smith\n",
        "subject:  Psychology and Sociology\n",
        "link:    http://www.bu.edu/library/guide/sociology/\n",
        "published:  Mon, 16 May 2011 21:46:20 +0000\n",
        "summary:  \n",
        "email:  jchris @bu.edu\n",
        "status:  publish\n",
        "postmeta:  \n",
        "postType:  guide\n",
        "excerpt:  \n",
        " "
       ]
      },
      {
       "output_type": "stream",
       "stream": "stdout",
       "text": [
        "\n",
        " \n",
        "Record:  443\n",
        "title:   Seismology\n",
        "author:  Jenna Ryan\n",
        "subject:  Physical Sciences\n",
        "subject:  Science &amp; Engineering\n",
        "link:    http://www.bu.edu/library/guide/seismology/\n",
        "published:  Mon, 16 May 2011 21:46:20 +0000\n",
        "summary:  \n",
        "email:  jennary @bu.edu\n",
        "status:  publish\n",
        "postmeta:  \n",
        "postType:  guide\n",
        "excerpt:  \n",
        " "
       ]
      },
      {
       "output_type": "stream",
       "stream": "stdout",
       "text": [
        "\n",
        " \n",
        "Record:  444\n",
        "title:   Architecture\n",
        "author:  Ruth Thomas\n",
        "subject:  American Studies\n",
        "subject:  Arts\n",
        "subject:  History\n",
        "link:    http://www.bu.edu/library/guide/architecture/\n",
        "published:  Mon, 16 May 2011 21:46:20 +0000\n",
        "summary:  \n",
        "email:  rthomas @bu.edu\n",
        "status:  publish\n",
        "postmeta:  \n",
        "postType:  guide\n",
        "excerpt:  \n",
        " "
       ]
      },
      {
       "output_type": "stream",
       "stream": "stdout",
       "text": [
        "\n",
        " \n",
        "Record:  445\n",
        "title:   Literature\n",
        "author:  Diane D\u2019Almeida\n",
        "subject:  Literature &amp; Language\n",
        "link:    http://www.bu.edu/library/guide/liternet/\n",
        "published:  Mon, 16 May 2011 21:46:20 +0000\n",
        "summary:  \n",
        "email:  dalmeida @bu.edu\n",
        "status:  publish\n",
        "postmeta:  \n",
        "postType:  guide\n",
        "excerpt:  \n",
        " "
       ]
      },
      {
       "output_type": "stream",
       "stream": "stdout",
       "text": [
        "\n",
        " \n",
        "Record:  446\n",
        "title:   Linguistics\n",
        "author:  Diane D\u2019Almeida\n",
        "subject:  Literature &amp; Language\n",
        "link:    http://www.bu.edu/library/guide/ling/\n",
        "published:  Mon, 16 May 2011 21:46:20 +0000\n",
        "summary:  \n",
        "email:  dalmeida @bu.edu\n",
        "status:  publish\n",
        "postmeta:  \n",
        "postType:  guide\n",
        "excerpt:  \n",
        " "
       ]
      },
      {
       "output_type": "stream",
       "stream": "stdout",
       "text": [
        "\n",
        " \n",
        "Record:  447\n",
        "title:   Psychology\n",
        "author:  Meredith Kirkpatrick\n",
        "subject:  Psychology and Sociology\n",
        "link:    http://www.bu.edu/library/guide/psych/\n",
        "published:  Mon, 16 May 2011 21:46:21 +0000\n",
        "summary:  \n",
        "email:  meredith @bu.edu\n",
        "status:  publish\n",
        "postmeta:  \n",
        "postType:  guide\n",
        "excerpt:  \n",
        " "
       ]
      },
      {
       "output_type": "stream",
       "stream": "stdout",
       "text": [
        "\n",
        " \n",
        "Record:  448\n",
        "title:   Population Studies\n",
        "author:  J. Christina Smith\n",
        "subject:  Psychology and Sociology\n",
        "subject:  Urban Studies\n",
        "link:    http://www.bu.edu/library/guide/populationstudies/\n",
        "published:  Mon, 16 May 2011 21:46:21 +0000\n",
        "summary:  \n",
        "email:  jchris @bu.edu\n",
        "status:  publish\n",
        "postmeta:  \n",
        "postType:  guide\n",
        "excerpt:  \n",
        " "
       ]
      },
      {
       "output_type": "stream",
       "stream": "stdout",
       "text": [
        "\n",
        " \n",
        "Record:  449\n",
        "title:   Photography\n",
        "author:  Ruth Thomas\n",
        "subject:  Arts\n",
        "subject:  Communications\n",
        "subject:  History\n",
        "subject:  Literature &amp; Language\n",
        "subject:  Women's Studies\n",
        "link:    http://www.bu.edu/library/guide/phot/\n",
        "published:  Mon, 16 May 2011 21:46:21 +0000\n",
        "summary:  \n",
        "email:  rthomas @bu.edu\n",
        "status:  publish\n",
        "postmeta:  \n",
        "postType:  guide\n",
        "excerpt:  \n",
        " "
       ]
      },
      {
       "output_type": "stream",
       "stream": "stdout",
       "text": [
        "\n",
        " \n",
        "Record:  450\n",
        "title:   Folklore & Fairy Tales\n",
        "author:  J. Christina Smith\n",
        "subject:  Anthropology\n",
        "subject:  Literature &amp; Language\n",
        "link:    http://www.bu.edu/library/guide/folklore/\n",
        "published:  Mon, 16 May 2011 21:46:21 +0000\n",
        "summary:  \n",
        "email:  jchris @bu.edu\n",
        "status:  publish\n",
        "postmeta:  \n",
        "postType:  guide\n",
        "excerpt:  \n",
        " "
       ]
      },
      {
       "output_type": "stream",
       "stream": "stdout",
       "text": [
        "\n",
        " \n",
        "Record:  451\n",
        "title:   Biography\n",
        "author:  J. Christina Smith\n",
        "subject:  Area &amp; Cultural Studies\n",
        "subject:  Arts &amp; Humanities\n",
        "subject:  Social Science\n",
        "link:    http://www.bu.edu/library/guide/biography/\n",
        "published:  Mon, 16 May 2011 21:46:21 +0000\n",
        "summary:  \n",
        "email:  jchris @bu.edu\n",
        "status:  publish\n",
        "postmeta:  \n",
        "postType:  guide\n",
        "excerpt:  \n",
        " "
       ]
      },
      {
       "output_type": "stream",
       "stream": "stdout",
       "text": [
        "\n",
        " \n",
        "Record:  452\n",
        "title:   Book Reviews\n",
        "author:  Donald Altschiller\n",
        "subject:  Area &amp; Cultural Studies\n",
        "subject:  Arts &amp; Humanities\n",
        "subject:  Social Science\n",
        "link:    http://www.bu.edu/library/guide/bookreviews/\n",
        "published:  Mon, 16 May 2011 21:46:22 +0000\n",
        "summary:  \n",
        "email:  donaltsc @bu.edu\n",
        "status:  publish\n",
        "postmeta:  \n",
        "postType:  guide\n",
        "excerpt:  \n",
        " "
       ]
      },
      {
       "output_type": "stream",
       "stream": "stdout",
       "text": [
        "\n",
        " \n",
        "Record:  453\n",
        "title:   French Language and Literature - in the Library and on the Web\n",
        "author:  Diane D\u2019Almeida\n",
        "subject:  Arts &amp; Humanities\n",
        "subject:  Literature &amp; Language\n",
        "link:    http://www.bu.edu/library/guide/french/\n",
        "published:  Mon, 16 May 2011 21:46:22 +0000\n",
        "summary:  \n",
        "email:  dalmeida @bu.edu\n",
        "status:  publish\n",
        "postmeta:  \n",
        "postType:  guide\n",
        "excerpt:  \n",
        " "
       ]
      },
      {
       "output_type": "stream",
       "stream": "stdout",
       "text": [
        "\n",
        " \n",
        "Record:  454\n",
        "title:   Ethnic Studies\n",
        "author:  J. Christina Smith\n",
        "subject:  American Studies\n",
        "subject:  Psychology and Sociology\n",
        "link:    http://www.bu.edu/library/guide/ethnicstudies/\n",
        "published:  Mon, 16 May 2011 21:46:22 +0000\n",
        "summary:  \n",
        "email:  jchris @bu.edu\n",
        "status:  publish\n",
        "postmeta:  \n",
        "postType:  guide\n",
        "excerpt:  \n",
        " "
       ]
      },
      {
       "output_type": "stream",
       "stream": "stdout",
       "text": [
        "\n",
        " \n",
        "Record:  455\n",
        "title:   \n",
        "author:  Jenna Ryan\n",
        "subject:  Life Sciences\n",
        "link:    http://www.bu.edu/library/guide/zoo/\n",
        "published:  Mon, 16 May 2011 21:46:22 +0000\n",
        "summary:  \n",
        "email:  jennary @bu.edu\n",
        "status:  publish\n",
        "postmeta:  \n",
        "postType:  guide\n",
        "excerpt:  \n",
        " "
       ]
      },
      {
       "output_type": "stream",
       "stream": "stdout",
       "text": [
        "\n",
        " \n",
        "Record:  456\n",
        "title:   Citing Your Sources\n",
        "author:  Dan Benedetti\n",
        "link:    http://www.bu.edu/library/guide/citeys/\n",
        "published:  Mon, 16 May 2011 21:46:22 +0000\n",
        "summary:  \n",
        "email:  benededa @bu.edu\n",
        "status:  publish\n",
        "postmeta:  \n",
        "postType:  guide\n",
        "excerpt:  \n",
        " "
       ]
      },
      {
       "output_type": "stream",
       "stream": "stdout",
       "text": [
        "\n",
        " \n",
        "Record:  457\n",
        "title:   Middle Eastern Americans\n",
        "author:  J. Christina Smith\n",
        "subject:  American Studies\n",
        "subject:  Area &amp; Cultural Studies\n",
        "subject:  Psychology and Sociology\n",
        "link:    http://www.bu.edu/library/guide/middle-eastern-americans/\n",
        "published:  Mon, 16 May 2011 21:46:22 +0000\n",
        "summary:  \n",
        "email:  jchris @bu.edu\n",
        "status:  publish\n",
        "postmeta:  \n",
        "postType:  guide\n",
        "excerpt:  \n",
        " "
       ]
      },
      {
       "output_type": "stream",
       "stream": "stdout",
       "text": [
        "\n",
        " \n",
        "Record:  458\n",
        "title:   Capital Punishment\n",
        "author:  J. Christina Smith\n",
        "subject:  Law &amp; Ethics\n",
        "subject:  Politics and Public Policy\n",
        "subject:  Psychology and Sociology\n",
        "link:    http://www.bu.edu/library/guide/capitalpunishment/\n",
        "published:  Mon, 16 May 2011 21:46:22 +0000\n",
        "summary:  \n",
        "email:  jchris @bu.edu\n",
        "status:  publish\n",
        "postmeta:  \n",
        "postType:  guide\n",
        "excerpt:  \n",
        " "
       ]
      },
      {
       "output_type": "stream",
       "stream": "stdout",
       "text": [
        "\n",
        " \n",
        "Record:  459\n",
        "title:   Boston: Newspapers and Media\n",
        "subject:  Urban Studies\n",
        "link:    http://www.bu.edu/library/guide/boston/newspaperlink/\n",
        "published:  Mon, 16 May 2011 21:46:22 +0000\n",
        "summary:  \n",
        "email:  donaltsc @bu.edu\n",
        "status:  publish\n",
        "postmeta:  \n",
        "postType:  guide\n",
        "excerpt:  \n",
        " "
       ]
      },
      {
       "output_type": "stream",
       "stream": "stdout",
       "text": [
        "\n",
        " \n",
        "Record:  460\n",
        "title:   Cities & Urbanization\n",
        "author:  J. Christina Smith\n",
        "subject:  Psychology and Sociology\n",
        "subject:  Urban Studies\n",
        "link:    http://www.bu.edu/library/guide/citiesurbanization/\n",
        "published:  Mon, 16 May 2011 21:46:23 +0000\n",
        "summary:  \n",
        "email:  jchris @bu.edu\n",
        "status:  publish\n",
        "postmeta:  \n",
        "postType:  guide\n",
        "excerpt:  \n",
        " "
       ]
      },
      {
       "output_type": "stream",
       "stream": "stdout",
       "text": [
        "\n",
        " \n",
        "Record:  461\n",
        "title:   Native American Studies\n",
        "author:  J. Christina Smith\n",
        "subject:  American Studies\n",
        "subject:  Anthropology\n",
        "subject:  Archaeology\n",
        "subject:  Area &amp; Cultural Studies\n",
        "link:    http://www.bu.edu/library/guide/nativeamericanstudies/\n",
        "published:  Mon, 16 May 2011 21:46:23 +0000\n",
        "summary:  \n",
        "email:  jchris @bu.edu\n",
        "status:  publish\n",
        "postmeta:  \n",
        "postType:  guide\n",
        "excerpt:  \n",
        " "
       ]
      },
      {
       "output_type": "stream",
       "stream": "stdout",
       "text": [
        "\n",
        " \n",
        "Record:  462\n",
        "title:   Family Studies\n",
        "author:  J. Christina Smith\n",
        "subject:  Psychology and Sociology\n",
        "link:    http://www.bu.edu/library/guide/familystudies/\n",
        "published:  Mon, 16 May 2011 21:46:23 +0000\n",
        "summary:  \n",
        "email:  jchris @bu.edu\n",
        "status:  publish\n",
        "postmeta:  \n",
        "postType:  guide\n",
        "excerpt:  \n",
        " "
       ]
      },
      {
       "output_type": "stream",
       "stream": "stdout",
       "text": [
        "\n",
        " \n",
        "Record:  463\n",
        "title:   Images, Illustrations, Reproductions\n",
        "author:  Ruth Thomas\n",
        "subject:  Arts\n",
        "subject:  Communications\n",
        "subject:  History\n",
        "subject:  Images\n",
        "subject:  Law &amp; Ethics\n",
        "subject:  Literature &amp; Language\n",
        "subject:  Religion and Philosophy\n",
        "subject:  Women's Studies\n",
        "link:    http://www.bu.edu/library/guide/findimages/illustrations/\n",
        "published:  Mon, 16 May 2011 21:46:23 +0000\n",
        "summary:  \n",
        "email:  rthomas @bu.edu\n",
        "status:  publish\n",
        "postmeta:  \n",
        "postType:  guide\n",
        "excerpt:  \n",
        " "
       ]
      },
      {
       "output_type": "stream",
       "stream": "stdout",
       "text": [
        "\n",
        " \n",
        "Record:  464\n",
        "title:   Environmental Science\n",
        "author:  Jenna Ryan\n",
        "subject:  Interdisciplinary Sciences\n",
        "subject:  Life Sciences\n",
        "subject:  Science &amp; Engineering\n",
        "link:    http://www.bu.edu/library/guide/esguide/\n",
        "published:  Mon, 16 May 2011 21:46:24 +0000\n",
        "summary:  \n",
        "email:  pac @bu.edu\n",
        "status:  publish\n",
        "postmeta:  \n",
        "postType:  guide\n",
        "excerpt:  \n",
        " "
       ]
      },
      {
       "output_type": "stream",
       "stream": "stdout",
       "text": [
        "\n",
        " \n",
        "Record:  465\n",
        "title:   Journalism\n",
        "author:  Diane D\u2019Almeida\n",
        "subject:  Communications\n",
        "subject:  Law &amp; Ethics\n",
        "link:    http://www.bu.edu/library/guide/journalism/\n",
        "published:  Mon, 16 May 2011 21:46:24 +0000\n",
        "summary:  \n",
        "email:  dalmeida @bu.edu\n",
        "status:  publish\n",
        "postmeta:  \n",
        "postType:  guide\n",
        "excerpt:  \n",
        " "
       ]
      },
      {
       "output_type": "stream",
       "stream": "stdout",
       "text": [
        "\n",
        " \n",
        "Record:  466\n",
        "title:   African Art and Archaeology\n",
        "author:  Ruth Thomas\n",
        "subject:  African Studies\n",
        "subject:  Archaeology\n",
        "subject:  Arts\n",
        "subject:  History\n",
        "link:    http://www.bu.edu/library/guide/africanart/\n",
        "published:  Mon, 16 May 2011 21:46:24 +0000\n",
        "summary:  \n",
        "email:  rthomas @bu.edu\n",
        "status:  publish\n",
        "postmeta:  \n",
        "postType:  guide\n",
        "excerpt:  \n",
        " "
       ]
      },
      {
       "output_type": "stream",
       "stream": "stdout",
       "text": [
        "\n",
        " \n",
        "Record:  467\n",
        "title:   About the Research Process\n",
        "author:  Dan Benedetti\n",
        "link:    http://www.bu.edu/library/guide/guidetoresearch/\n",
        "published:  Mon, 16 May 2011 21:46:24 +0000\n",
        "summary:  \n",
        "email:  benededa @bu.edu\n",
        "status:  publish\n",
        "postmeta:  \n",
        "postType:  guide\n",
        "excerpt:  \n",
        " "
       ]
      },
      {
       "output_type": "stream",
       "stream": "stdout",
       "text": [
        "\n",
        " \n",
        "Record:  468\n",
        "title:   International Relations\n",
        "author:  Susan Wishinsky\n",
        "subject:  International Relations\n",
        "subject:  Politics and Public Policy\n",
        "link:    http://www.bu.edu/library/guide/ir/\n",
        "published:  Mon, 16 May 2011 21:46:24 +0000\n",
        "summary:  \n",
        "email:  susanw @bu.edu\n",
        "status:  publish\n",
        "postmeta:  \n",
        "postType:  guide\n",
        "excerpt:  \n",
        " "
       ]
      },
      {
       "output_type": "stream",
       "stream": "stdout",
       "text": [
        "\n",
        " \n",
        "Record:  469\n",
        "title:   Film and Television\n",
        "author:  Diane D\u2019Almeida\n",
        "subject:  American Studies\n",
        "subject:  Arts\n",
        "subject:  Communications\n",
        "subject:  Film\n",
        "link:    http://www.bu.edu/library/guide/film/\n",
        "published:  Mon, 16 May 2011 21:46:25 +0000\n",
        "summary:  \n",
        "email:  dalmeida @bu.edu\n",
        "status:  publish\n",
        "postmeta:  \n",
        "postType:  guide\n",
        "excerpt:  \n",
        " "
       ]
      },
      {
       "output_type": "stream",
       "stream": "stdout",
       "text": [
        "\n",
        " \n",
        "Record:  470\n",
        "title:   Human Relations Area Files (HRAF): Africa\n",
        "author:  J. Christina Smith\n",
        "link:    http://www.bu.edu/library/guide/hraf/hraf-africa/\n",
        "published:  Mon, 16 May 2011 21:46:25 +0000\n",
        "summary:  \n",
        "email:  jchris @bu.edu\n",
        "status:  publish\n",
        "postmeta:  \n",
        "postType:  guide\n",
        "excerpt:  \n",
        " "
       ]
      },
      {
       "output_type": "stream",
       "stream": "stdout",
       "text": [
        "\n",
        " \n",
        "Record:  471\n",
        "title:   Human Relations Area Files (HRAF): Asia\n",
        "author:  J. Christina Smith\n",
        "link:    http://www.bu.edu/library/guide/hraf/hraf-asia/\n",
        "published:  Mon, 16 May 2011 21:46:25 +0000\n",
        "summary:  \n",
        "email:  jchris @bu.edu\n",
        "status:  publish\n",
        "postmeta:  \n",
        "postType:  guide\n",
        "excerpt:  \n",
        " "
       ]
      },
      {
       "output_type": "stream",
       "stream": "stdout",
       "text": [
        "\n",
        " \n",
        "Record:  472\n",
        "title:   Human Relations Area Files (HRAF): Europe\n",
        "author:  J. Christina Smith\n",
        "link:    http://www.bu.edu/library/guide/hraf/hraf-europe/\n",
        "published:  Mon, 16 May 2011 21:46:25 +0000\n",
        "summary:  \n",
        "email:  jchris @bu.edu\n",
        "status:  publish\n",
        "postmeta:  \n",
        "postType:  guide\n",
        "excerpt:  \n",
        " "
       ]
      },
      {
       "output_type": "stream",
       "stream": "stdout",
       "text": [
        "\n",
        " \n",
        "Record:  473\n",
        "title:   Human Relations Area Files (HRAF)\n",
        "author:  J. Christina Smith\n",
        "subject:  Anthropology\n",
        "subject:  Area &amp; Cultural Studies\n",
        "subject:  Human Relations Area Files\n",
        "link:    http://www.bu.edu/library/guide/hraf/\n",
        "published:  Mon, 16 May 2011 21:46:26 +0000\n",
        "summary:  \n",
        "email:  jchris @bu.edu\n",
        "status:  publish\n",
        "postmeta:  \n",
        "postType:  guide\n",
        "excerpt:  \n",
        " "
       ]
      },
      {
       "output_type": "stream",
       "stream": "stdout",
       "text": [
        "\n",
        " \n",
        "Record:  474\n",
        "title:   Arab and Islamic Studies - in the Library and on the Web\n",
        "author:  Diane D\u2019Almeida\n",
        "subject:  Middle East\n",
        "subject:  Religion and Philosophy\n",
        "link:    http://www.bu.edu/library/guide/arabstudies/\n",
        "published:  Mon, 16 May 2011 21:46:26 +0000\n",
        "summary:  \n",
        "email:  dalmeida @bu.edu\n",
        "status:  publish\n",
        "postmeta:  \n",
        "postType:  guide\n",
        "excerpt:  \n",
        " "
       ]
      },
      {
       "output_type": "stream",
       "stream": "stdout",
       "text": [
        "\n",
        " \n",
        "Record:  475\n",
        "title:   Gerontology\n",
        "author:  Meredith Kirkpatrick\n",
        "subject:  Psychology and Sociology\n",
        "link:    http://www.bu.edu/library/guide/geron/\n",
        "published:  Mon, 16 May 2011 21:46:26 +0000\n",
        "summary:  \n",
        "email:  meredith @bu.edu\n",
        "status:  publish\n",
        "postmeta:  \n",
        "postType:  guide\n",
        "excerpt:  \n",
        " "
       ]
      },
      {
       "output_type": "stream",
       "stream": "stdout",
       "text": [
        "\n",
        " \n",
        "Record:  476\n",
        "title:   Human Relations Area Files (HRAF): Middle East\n",
        "author:  J. Christina Smith\n",
        "link:    http://www.bu.edu/library/guide/hraf/hraf-mideast/\n",
        "published:  Mon, 16 May 2011 21:46:26 +0000\n",
        "summary:  \n",
        "email:  jchris @bu.edu\n",
        "status:  publish\n",
        "postmeta:  \n",
        "postType:  guide\n",
        "excerpt:  \n",
        " "
       ]
      },
      {
       "output_type": "stream",
       "stream": "stdout",
       "text": [
        "\n",
        " \n",
        "Record:  477\n",
        "title:   Human Relations Area Files (HRAF): North America\n",
        "author:  J. Christina Smith\n",
        "link:    http://www.bu.edu/library/guide/hraf/hraf-northamerica/\n",
        "published:  Mon, 16 May 2011 21:46:26 +0000\n",
        "summary:  \n",
        "email:  jchris @bu.edu\n",
        "status:  publish\n",
        "postmeta:  \n",
        "postType:  guide\n",
        "excerpt:  \n",
        " "
       ]
      },
      {
       "output_type": "stream",
       "stream": "stdout",
       "text": [
        "\n",
        " \n",
        "Record:  478\n",
        "title:   Human Relations Area Files (HRAF): Oceania\n",
        "author:  J. Christina Smith\n",
        "link:    http://www.bu.edu/library/guide/hraf/hraf-oceania/\n",
        "published:  Mon, 16 May 2011 21:46:26 +0000\n",
        "summary:  \n",
        "email:  jchris @bu.edu\n",
        "status:  publish\n",
        "postmeta:  \n",
        "postType:  guide\n",
        "excerpt:  \n",
        " "
       ]
      },
      {
       "output_type": "stream",
       "stream": "stdout",
       "text": [
        "\n",
        " \n",
        "Record:  479\n",
        "title:   Open Access\n",
        "author:  Meredith Kirkpatrick\n",
        "subject:  Area &amp; Cultural Studies\n",
        "subject:  Arts &amp; Humanities\n",
        "subject:  Science &amp; Engineering\n",
        "subject:  Social Science\n",
        "link:    http://www.bu.edu/library/guide/openaccess/\n",
        "published:  Mon, 16 May 2011 21:46:27 +0000\n",
        "summary:  \n",
        "email:  meredith @bu.edu\n",
        "status:  publish\n",
        "postmeta:  \n",
        "postType:  guide\n",
        "excerpt:  \n",
        " "
       ]
      },
      {
       "output_type": "stream",
       "stream": "stdout",
       "text": [
        "\n",
        " \n",
        "Record:  480\n",
        "title:   Human Relations Area Files (HRAF): Russia\n",
        "author:  J. Christina Smith\n",
        "link:    http://www.bu.edu/library/guide/hraf/hraf-russia/\n",
        "published:  Mon, 16 May 2011 21:46:27 +0000\n",
        "summary:  \n",
        "email:  jchris @bu.edu\n",
        "status:  publish\n",
        "postmeta:  \n",
        "postType:  guide\n",
        "excerpt:  \n",
        " "
       ]
      },
      {
       "output_type": "stream",
       "stream": "stdout",
       "text": [
        "\n",
        " \n",
        "Record:  481\n",
        "title:   Human Relations Area Files (HRAF): South America\n",
        "author:  J. Christina Smith\n",
        "link:    http://www.bu.edu/library/guide/hraf/hraf-southamerica/\n",
        "published:  Mon, 16 May 2011 21:46:27 +0000\n",
        "summary:  \n",
        "email:  jchris @bu.edu\n",
        "status:  publish\n",
        "postmeta:  \n",
        "postType:  guide\n",
        "excerpt:  \n",
        " "
       ]
      },
      {
       "output_type": "stream",
       "stream": "stdout",
       "text": [
        "\n",
        " \n",
        "Record:  482\n",
        "title:   eBooks\n",
        "author:  Meredith Kirkpatrick\n",
        "link:    http://www.bu.edu/library/guide/ebooks/\n",
        "published:  Mon, 16 May 2011 21:46:27 +0000\n",
        "summary:  \n",
        "email:  meredith @bu.edu\n",
        "status:  publish\n",
        "postmeta:  \n",
        "postType:  guide\n",
        "excerpt:  \n",
        " "
       ]
      },
      {
       "output_type": "stream",
       "stream": "stdout",
       "text": [
        "\n",
        " \n",
        "Record:  483\n",
        "title:   Primary Sources\n",
        "author:  Meredith Kirkpatrick\n",
        "subject:  Area &amp; Cultural Studies\n",
        "subject:  Arts &amp; Humanities\n",
        "subject:  Social Science\n",
        "link:    http://www.bu.edu/library/guide/primarysources/\n",
        "published:  Mon, 16 May 2011 21:46:27 +0000\n",
        "summary:  \n",
        "email:  meredith @bu.edu\n",
        "status:  publish\n",
        "postmeta:  \n",
        "postType:  guide\n",
        "excerpt:  \n",
        " "
       ]
      },
      {
       "output_type": "stream",
       "stream": "stdout",
       "text": [
        "\n",
        " \n",
        "Record:  484\n",
        "title:   Dance\n",
        "author:  Holly Mockovak\n",
        "author:  Sarah Hunter\n",
        "subject:  Arts\n",
        "subject:  Music\n",
        "link:    http://www.bu.edu/library/guide/dance/\n",
        "published:  Mon, 16 May 2011 21:46:27 +0000\n",
        "summary:  \n",
        "email:  mockovak @bu.edu\n",
        "status:  publish\n",
        "postmeta:  \n",
        "postType:  guide\n",
        "excerpt:  \n",
        " "
       ]
      },
      {
       "output_type": "stream",
       "stream": "stdout",
       "text": [
        "\n",
        " \n",
        "Record:  485\n",
        "title:   Museums and Museum Studies\n",
        "author:  Ruth Thomas\n",
        "subject:  Arts\n",
        "subject:  Arts &amp; Humanities\n",
        "subject:  History\n",
        "link:    http://www.bu.edu/library/guide/museumstudies/\n",
        "published:  Mon, 16 May 2011 21:46:28 +0000\n",
        "summary:  \n",
        "email:  rthomas @bu.edu\n",
        "status:  publish\n",
        "postmeta:  \n",
        "postType:  guide\n",
        "excerpt:  \n",
        "meta_key:  "
       ]
      },
      {
       "output_type": "stream",
       "stream": "stdout",
       "text": [
        " museums professional organizations,museums biography,museums exhibitions,museums careers,collectors and collecting\n",
        " \n",
        " \n",
        "Record:  486\n",
        "title:   Music Therapy\n",
        "author:  Meredith Kirkpatrick\n",
        "subject:  Music\n",
        "subject:  Psychology and Sociology\n",
        "link:    http://www.bu.edu/library/guide/musictherapy/\n",
        "published:  Mon, 16 May 2011 21:46:28 +0000\n",
        "summary:  \n",
        "email:  meredith @bu.edu\n",
        "status:  publish\n",
        "postmeta:  \n",
        "postType:  guide\n",
        "excerpt:  \n",
        " "
       ]
      },
      {
       "output_type": "stream",
       "stream": "stdout",
       "text": [
        "\n",
        " \n",
        "Record:  487\n",
        "title:   Cited References: How Do I Find Who Cited an Article or Book?\n",
        "author:  Meredith Kirkpatrick\n",
        "link:    http://www.bu.edu/library/guide/citedreferences/\n",
        "published:  Mon, 16 May 2011 21:46:28 +0000\n",
        "summary:  \n",
        "email:  meredith @bu.edu\n",
        "status:  publish\n",
        "postmeta:  \n",
        "postType:  guide\n",
        "excerpt:  \n",
        " "
       ]
      },
      {
       "output_type": "stream",
       "stream": "stdout",
       "text": [
        "\n",
        " \n",
        "Record:  488\n",
        "title:   Human Rights\n",
        "author:  Susan Wishinsky\n",
        "subject:  International Relations\n",
        "subject:  Law &amp; Ethics\n",
        "subject:  Politics and Public Policy\n",
        "link:    http://www.bu.edu/library/guide/hr/\n",
        "published:  Mon, 16 May 2011 22:46:29 +0000\n",
        "summary:  \n",
        "email:  susanw @bu.edu\n",
        "status:  publish\n",
        "postmeta:  \n",
        "postType:  guide\n",
        "excerpt:  \n",
        " "
       ]
      },
      {
       "output_type": "stream",
       "stream": "stdout",
       "text": [
        "\n",
        " \n",
        "Record:  489\n",
        "title:   Think Tanks, NGOs and IGOs: IR\n",
        "author:  Susan Wishinsky\n",
        "subject:  International Relations\n",
        "subject:  Politics and Public Policy\n",
        "link:    http://www.bu.edu/library/guide/ir/io/\n",
        "published:  Mon, 16 May 2011 22:46:29 +0000\n",
        "summary:  \n",
        "email:  susanw @bu.edu\n",
        "status:  publish\n",
        "postmeta:  \n",
        "postType:  guide\n",
        "excerpt:  \n",
        " "
       ]
      },
      {
       "output_type": "stream",
       "stream": "stdout",
       "text": [
        "\n",
        " \n",
        "Record:  490\n",
        "title:   Terrorism: IR\n",
        "author:  Susan Wishinsky\n",
        "subject:  International Relations\n",
        "subject:  Politics and Public Policy\n",
        "link:    http://www.bu.edu/library/guide/ir/ter/\n",
        "published:  Mon, 16 May 2011 22:46:30 +0000\n",
        "summary:  \n",
        "email:  susanw @bu.edu\n",
        "status:  publish\n",
        "postmeta:  \n",
        "postType:  guide\n",
        "excerpt:  \n",
        " "
       ]
      },
      {
       "output_type": "stream",
       "stream": "stdout",
       "text": [
        "\n",
        " \n",
        "Record:  491\n",
        "title:   Treaties\n",
        "author:  Susan Wishinsky\n",
        "subject:  International Relations\n",
        "subject:  Politics and Public Policy\n",
        "link:    http://www.bu.edu/library/guide/ir/treaties/\n",
        "published:  Mon, 16 May 2011 22:46:30 +0000\n",
        "summary:  \n",
        "email:  susanw @bu.edu\n",
        "status:  publish\n",
        "postmeta:  \n",
        "postType:  guide\n",
        "excerpt:  \n",
        " "
       ]
      },
      {
       "output_type": "stream",
       "stream": "stdout",
       "text": [
        "\n",
        " \n",
        "Record:  492\n",
        "title:   Arab Women Writers\n",
        "author:  Diane D\u2019Almeida\n",
        "subject:  Arts\n",
        "subject:  Literature &amp; Language\n",
        "subject:  Middle East\n",
        "subject:  Women's Studies\n",
        "link:    http://www.bu.edu/library/guide/caww/\n",
        "published:  Mon, 16 May 2011 22:46:34 +0000\n",
        "summary:  \n",
        "email:  dalmeida @bu.edu\n",
        "status:  publish\n",
        "postmeta:  \n",
        "postType:  guide\n",
        "excerpt:  \n",
        " "
       ]
      },
      {
       "output_type": "stream",
       "stream": "stdout",
       "text": [
        "\n",
        " \n",
        "Record:  493\n",
        "title:   Boston and Its Neighborhoods\n",
        "author:  Donald Altschiller\n",
        "author:  Ruth Thomas\n",
        "subject:  American Studies\n",
        "subject:  Archaeology\n",
        "subject:  Area &amp; Cultural Studies\n",
        "subject:  Arts\n",
        "subject:  Arts &amp; Humanities\n",
        "subject:  Boston\n",
        "subject:  Business &amp; Management\n",
        "subject:  Film\n",
        "subject:  History\n",
        "subject:  Images\n",
        "subject:  Literature &amp; Language\n",
        "subject:  Politics and Public Policy\n",
        "subject:  Social Science\n",
        "subject:  Urban Studies\n",
        "link:    http://www.bu.edu/library/guide/boston/\n",
        "published:  Mon, 16 May 2011 21:46:35 +0000\n",
        "summary:  \n",
        "email:  rthomas @bu.edu\n",
        "status:  publish\n",
        "postmeta:  \n",
        "postType:  guide\n",
        "excerpt:  \n",
        " "
       ]
      },
      {
       "output_type": "stream",
       "stream": "stdout",
       "text": [
        "\n",
        " \n",
        "Record:  494\n",
        "title:   Books on Boston: A Selection\n",
        "author:  Ruth Thomas\n",
        "link:    http://www.bu.edu/library/guide/boston/books/\n",
        "published:  Mon, 16 May 2011 21:46:35 +0000\n",
        "summary:  \n",
        "email:  rthomas @bu.edu\n",
        "status:  publish\n",
        "postmeta:  \n",
        "postType:  guide\n",
        "excerpt:  \n",
        " "
       ]
      },
      {
       "output_type": "stream",
       "stream": "stdout",
       "text": [
        "\n",
        " \n",
        "Record:  495\n",
        "title:   Boston: Images\n",
        "author:  Ruth Thomas\n",
        "subject:  Arts\n",
        "subject:  Arts &amp; Humanities\n",
        "subject:  Images\n",
        "link:    http://www.bu.edu/library/guide/boston/images/\n",
        "published:  Mon, 16 May 2011 21:46:35 +0000\n",
        "summary:  \n",
        "email:  rthomas @bu.edu\n",
        "status:  publish\n",
        "postmeta:  \n",
        "postType:  guide\n",
        "excerpt:  \n",
        " "
       ]
      },
      {
       "output_type": "stream",
       "stream": "stdout",
       "text": [
        "\n",
        " \n",
        "Record:  496\n",
        "title:   Television Programs set in Boston\n",
        "author:  Donald Altschiller\n",
        "link:    http://www.bu.edu/library/guide/boston/boston-settings/tv/\n",
        "published:  Mon, 16 May 2011 21:46:35 +0000\n",
        "summary:  \n",
        "email:  donaltsc @bu.edu\n",
        "status:  publish\n",
        "postmeta:  \n",
        "postType:  guide\n",
        "excerpt:  \n",
        " "
       ]
      },
      {
       "output_type": "stream",
       "stream": "stdout",
       "text": [
        "\n",
        " \n",
        "Record:  497\n",
        "title:   Music lyrics with a Boston theme\n",
        "author:  Donald Altschiller\n",
        "link:    http://www.bu.edu/library/guide/boston/boston-settings/music/\n",
        "published:  Mon, 16 May 2011 21:46:36 +0000\n",
        "summary:  \n",
        "email:  donaltsc @bu.edu\n",
        "status:  publish\n",
        "postmeta:  \n",
        "postType:  guide\n",
        "excerpt:  \n",
        " "
       ]
      },
      {
       "output_type": "stream",
       "stream": "stdout",
       "text": [
        "\n",
        " \n",
        "Record:  498\n",
        "title:   \"Banned in Boston\": selected sources.\n",
        "author:  Ruth Thomas\n",
        "subject:  American Studies\n",
        "subject:  History\n",
        "subject:  Literature &amp; Language\n",
        "link:    http://www.bu.edu/library/guide/boston/banned/\n",
        "published:  Mon, 16 May 2011 21:46:36 +0000\n",
        "summary:  \n",
        "email:  rthomas @bu.edu\n",
        "status:  publish\n",
        "postmeta:  \n",
        "postType:  guide\n",
        "excerpt:  \n",
        " "
       ]
      },
      {
       "output_type": "stream",
       "stream": "stdout",
       "text": [
        "\n",
        " \n",
        "Record:  499\n",
        "title:   Movies with Boston Sets and Scenes\n",
        "author:  Ruth Thomas\n",
        "link:    http://www.bu.edu/library/guide/boston/boston-settings/moviessetin/\n",
        "published:  Mon, 16 May 2011 21:46:36 +0000\n",
        "summary:  \n",
        "email:  rthomas @bu.edu\n",
        "status:  publish\n",
        "postmeta:  \n",
        "postType:  guide\n",
        "excerpt:  \n",
        " "
       ]
      },
      {
       "output_type": "stream",
       "stream": "stdout",
       "text": [
        "\n",
        " \n",
        "Record:  500\n",
        "title:   Boston: Works Progress Administration: FAP, FMP, FTP, FWP, PWAP\n",
        "author:  Ruth Thomas\n",
        "link:    http://www.bu.edu/library/guide/boston/wpa/\n",
        "published:  Mon, 16 May 2011 21:46:36 +0000\n",
        "summary:  \n",
        "email:  rthomas @bu.edu\n",
        "status:  publish\n",
        "postmeta:  \n",
        "postType:  guide\n",
        "excerpt:  \n",
        " "
       ]
      },
      {
       "output_type": "stream",
       "stream": "stdout",
       "text": [
        "\n",
        " \n",
        "Record:  501\n",
        "title:   Boston: Parks, Land, Harbor Use and Natural History\n",
        "link:    http://www.bu.edu/library/guide/boston/parks/\n",
        "published:  Mon, 16 May 2011 21:46:36 +0000\n",
        "summary:  \n",
        "email:  rthomas @bu.edu\n",
        "status:  publish\n",
        "postmeta:  \n",
        "postType:  guide\n",
        "excerpt:  \n",
        " "
       ]
      },
      {
       "output_type": "stream",
       "stream": "stdout",
       "text": [
        "\n",
        " \n",
        "Record:  502\n",
        "title:   Boston: Green Design, Sustainability, Transportation\n",
        "link:    http://www.bu.edu/library/guide/boston/greendesign/\n",
        "published:  Mon, 16 May 2011 21:46:36 +0000\n",
        "summary:  \n",
        "email:  rthomas @bu.edu\n",
        "status:  publish\n",
        "postmeta:  \n",
        "postType:  guide\n",
        "excerpt:  \n",
        " "
       ]
      },
      {
       "output_type": "stream",
       "stream": "stdout",
       "text": [
        "\n",
        " \n",
        "Record:  503\n",
        "title:   Guide for Writers of Theses & Dissertations\n",
        "author:  Brendan McDermott\n",
        "link:    http://www.bu.edu/library/guide/theses/\n",
        "published:  Mon, 16 May 2011 21:46:36 +0000\n",
        "summary:  \n",
        "email:  brendan @bu.edu\n",
        "status:  publish\n",
        "postmeta:  \n",
        "postType:  guide\n",
        "excerpt:  \n",
        " "
       ]
      },
      {
       "output_type": "stream",
       "stream": "stdout",
       "text": [
        "\n",
        " \n",
        "Record:  504\n",
        "title:   Adult and Continuing Education\n",
        "author:  Dan Benedetti\n",
        "link:    http://www.bu.edu/library/guide/adulted/\n",
        "published:  Mon, 16 May 2011 21:46:37 +0000\n",
        "summary:  \n",
        "email:  benededa @bu.edu\n",
        "status:  publish\n",
        "postmeta:  \n",
        "postType:  guide\n",
        "excerpt:  \n",
        " "
       ]
      },
      {
       "output_type": "stream",
       "stream": "stdout",
       "text": [
        "\n",
        " \n",
        "Record:  505\n",
        "title:   Higher Education\n",
        "author:  Dan Benedetti\n",
        "link:    http://www.bu.edu/library/guide/highered/\n",
        "published:  Mon, 16 May 2011 21:46:37 +0000\n",
        "summary:  \n",
        "email:  benededa @bu.edu\n",
        "status:  publish\n",
        "postmeta:  \n",
        "postType:  guide\n",
        "excerpt:  \n",
        " "
       ]
      },
      {
       "output_type": "stream",
       "stream": "stdout",
       "text": [
        "\n",
        " \n",
        "Record:  506\n",
        "title:   Educational Leadership\n",
        "author:  Dan Benedetti\n",
        "link:    http://www.bu.edu/library/guide/admin/\n",
        "published:  Mon, 16 May 2011 21:46:37 +0000\n",
        "summary:  \n",
        "email:  benededa @bu.edu\n",
        "status:  publish\n",
        "postmeta:  \n",
        "postType:  guide\n",
        "excerpt:  \n",
        " "
       ]
      },
      {
       "output_type": "stream",
       "stream": "stdout",
       "text": [
        "\n",
        " \n",
        "Record:  507\n",
        "title:   Child Development and Early Childhood Education\n",
        "author:  Dan Benedetti\n",
        "link:    http://www.bu.edu/library/guide/child/\n",
        "published:  Mon, 16 May 2011 21:46:37 +0000\n",
        "summary:  \n",
        "email:  benededa @bu.edu\n",
        "status:  publish\n",
        "postmeta:  \n",
        "postType:  guide\n",
        "excerpt:  \n",
        " "
       ]
      },
      {
       "output_type": "stream",
       "stream": "stdout",
       "text": [
        "\n",
        " \n",
        "Record:  508\n",
        "title:   Educational Technology\n",
        "author:  Dan Benedetti\n",
        "link:    http://www.bu.edu/library/guide/techno/\n",
        "published:  Mon, 16 May 2011 21:46:37 +0000\n",
        "summary:  \n",
        "email:  benededa @bu.edu\n",
        "status:  publish\n",
        "postmeta:  \n",
        "postType:  guide\n",
        "excerpt:  \n",
        " "
       ]
      },
      {
       "output_type": "stream",
       "stream": "stdout",
       "text": [
        "\n",
        " \n",
        "Record:  509\n",
        "title:   Character Education\n",
        "author:  Dan Benedetti\n",
        "link:    http://www.bu.edu/library/guide/charedu/\n",
        "published:  Mon, 16 May 2011 21:46:38 +0000\n",
        "summary:  \n",
        "email:  benededa @bu.edu\n",
        "status:  publish\n",
        "postmeta:  \n",
        "postType:  guide\n",
        "excerpt:  \n",
        " "
       ]
      },
      {
       "output_type": "stream",
       "stream": "stdout",
       "text": [
        "\n",
        " \n",
        "Record:  510\n",
        "title:   Educational and Psychological Tests and Measures\n",
        "author:  Dan Benedetti\n",
        "link:    http://www.bu.edu/library/guide/edutests/\n",
        "published:  Mon, 16 May 2011 21:46:38 +0000\n",
        "summary:  \n",
        "email:  benededa @bu.edu\n",
        "status:  publish\n",
        "postmeta:  \n",
        "postType:  guide\n",
        "excerpt:  \n",
        " "
       ]
      },
      {
       "output_type": "stream",
       "stream": "stdout",
       "text": [
        "\n",
        " \n",
        "Record:  511\n",
        "title:   Deaf Studies\n",
        "author:  Dan Benedetti\n",
        "link:    http://www.bu.edu/library/guide/deaf/\n",
        "published:  Mon, 16 May 2011 21:46:38 +0000\n",
        "summary:  \n",
        "email:  benededa @bu.edu\n",
        "status:  publish\n",
        "postmeta:  \n",
        "postType:  guide\n",
        "excerpt:  \n",
        " "
       ]
      },
      {
       "output_type": "stream",
       "stream": "stdout",
       "text": [
        "\n",
        " \n",
        "Record:  512\n",
        "title:   School Counseling and Psychology\n",
        "author:  Dan Benedetti\n",
        "link:    http://www.bu.edu/library/guide/counsel/\n",
        "published:  Mon, 16 May 2011 21:46:38 +0000\n",
        "summary:  \n",
        "email:  benededa @bu.edu\n",
        "status:  publish\n",
        "postmeta:  \n",
        "postType:  guide\n",
        "excerpt:  \n",
        " "
       ]
      },
      {
       "output_type": "stream",
       "stream": "stdout",
       "text": [
        "\n",
        " \n",
        "Record:  513\n",
        "title:   Curriculum\n",
        "author:  Dan Benedetti\n",
        "link:    http://www.bu.edu/library/guide/curriculum/\n",
        "published:  Mon, 16 May 2011 21:46:38 +0000\n",
        "summary:  \n",
        "email:  benededa @bu.edu\n",
        "status:  publish\n",
        "postmeta:  \n",
        "postType:  guide\n",
        "excerpt:  \n",
        " "
       ]
      },
      {
       "output_type": "stream",
       "stream": "stdout",
       "text": [
        "\n",
        " \n",
        "Record:  514\n",
        "title:   Distance Education\n",
        "author:  Dan Benedetti\n",
        "link:    http://www.bu.edu/library/guide/disted/\n",
        "published:  Mon, 16 May 2011 21:46:39 +0000\n",
        "summary:  \n",
        "email:  benededa @bu.edu\n",
        "status:  publish\n",
        "postmeta:  \n",
        "postType:  guide\n",
        "excerpt:  \n",
        " "
       ]
      },
      {
       "output_type": "stream",
       "stream": "stdout",
       "text": [
        "\n",
        " \n",
        "Record:  515\n",
        "title:   Educational Law\n",
        "author:  Dan Benedetti\n",
        "link:    http://www.bu.edu/library/guide/edulaw/\n",
        "published:  Mon, 16 May 2011 21:46:39 +0000\n",
        "summary:  \n",
        "email:  benededa @bu.edu\n",
        "status:  publish\n",
        "postmeta:  \n",
        "postType:  guide\n",
        "excerpt:  \n",
        " "
       ]
      },
      {
       "output_type": "stream",
       "stream": "stdout",
       "text": [
        "\n",
        " \n",
        "Record:  516\n",
        "title:   Funding Resources\n",
        "author:  Dan Benedetti\n",
        "link:    http://www.bu.edu/library/guide/funding/\n",
        "published:  Mon, 16 May 2011 21:46:39 +0000\n",
        "summary:  \n",
        "email:  benededa @bu.edu\n",
        "status:  publish\n",
        "postmeta:  \n",
        "postType:  guide\n",
        "excerpt:  \n",
        " "
       ]
      },
      {
       "output_type": "stream",
       "stream": "stdout",
       "text": [
        "\n",
        " \n",
        "Record:  517\n",
        "title:   Special Education\n",
        "author:  Dan Benedetti\n",
        "link:    http://www.bu.edu/library/guide/specedu/\n",
        "published:  Mon, 16 May 2011 21:46:39 +0000\n",
        "summary:  \n",
        "email:  benededa @bu.edu\n",
        "status:  publish\n",
        "postmeta:  \n",
        "postType:  guide\n",
        "excerpt:  \n",
        " "
       ]
      },
      {
       "output_type": "stream",
       "stream": "stdout",
       "text": [
        "\n",
        " \n",
        "Record:  518\n",
        "title:   Philosophy of Education\n",
        "author:  Dan Benedetti\n",
        "link:    http://www.bu.edu/library/guide/philed/\n",
        "published:  Mon, 16 May 2011 21:46:39 +0000\n",
        "summary:  \n",
        "email:  benededa @bu.edu\n",
        "status:  publish\n",
        "postmeta:  \n",
        "postType:  guide\n",
        "excerpt:  \n",
        " "
       ]
      },
      {
       "output_type": "stream",
       "stream": "stdout",
       "text": [
        "\n",
        " \n",
        "Record:  519\n",
        "title:   Teaching\n",
        "author:  Dan Benedetti\n",
        "link:    http://www.bu.edu/library/guide/teaching/\n",
        "published:  Mon, 16 May 2011 21:46:40 +0000\n",
        "summary:  \n",
        "email:  benededa @bu.edu\n",
        "status:  publish\n",
        "postmeta:  \n",
        "postType:  guide\n",
        "excerpt:  \n",
        " "
       ]
      },
      {
       "output_type": "stream",
       "stream": "stdout",
       "text": [
        "\n",
        " \n",
        "Record:  520\n",
        "title:   Physical Education, Health and Coaching\n",
        "author:  Dan Benedetti\n",
        "link:    http://www.bu.edu/library/guide/sports/\n",
        "published:  Mon, 16 May 2011 21:46:40 +0000\n",
        "summary:  \n",
        "email:  benededa @bu.edu\n",
        "status:  publish\n",
        "postmeta:  \n",
        "postType:  guide\n",
        "excerpt:  \n",
        " "
       ]
      },
      {
       "output_type": "stream",
       "stream": "stdout",
       "text": [
        "\n",
        " \n",
        "Record:  521\n",
        "title:   Educational Research\n",
        "author:  Dan Benedetti\n",
        "link:    http://www.bu.edu/library/guide/eduresearch/\n",
        "published:  Mon, 16 May 2011 21:46:40 +0000\n",
        "summary:  \n",
        "email:  benededa @bu.edu\n",
        "status:  publish\n",
        "postmeta:  \n",
        "postType:  guide\n",
        "excerpt:  \n",
        " "
       ]
      },
      {
       "output_type": "stream",
       "stream": "stdout",
       "text": [
        "\n",
        " \n",
        "Record:  522\n",
        "title:   Literacy and Reading\n",
        "author:  Dan Benedetti\n",
        "link:    http://www.bu.edu/library/guide/literacy/\n",
        "published:  Mon, 16 May 2011 21:46:40 +0000\n",
        "summary:  \n",
        "email:  benededa @bu.edu\n",
        "status:  publish\n",
        "postmeta:  \n",
        "postType:  guide\n",
        "excerpt:  \n",
        " "
       ]
      },
      {
       "output_type": "stream",
       "stream": "stdout",
       "text": [
        "\n",
        " \n",
        "Record:  523\n",
        "title:   International Education\n",
        "author:  Dan Benedetti\n",
        "link:    http://www.bu.edu/library/guide/international/\n",
        "published:  Mon, 16 May 2011 21:46:40 +0000\n",
        "summary:  \n",
        "email:  benededa @bu.edu\n",
        "status:  publish\n",
        "postmeta:  \n",
        "postType:  guide\n",
        "excerpt:  \n",
        " "
       ]
      },
      {
       "output_type": "stream",
       "stream": "stdout",
       "text": [
        "\n",
        " \n",
        "Record:  524\n",
        "title:   Language Learning and Linguistics\n",
        "author:  Dan Benedetti\n",
        "link:    http://www.bu.edu/library/guide/langlearning/\n",
        "published:  Mon, 16 May 2011 21:46:40 +0000\n",
        "summary:  \n",
        "email:  benededa @bu.edu\n",
        "status:  publish\n",
        "postmeta:  \n",
        "postType:  guide\n",
        "excerpt:  \n",
        " "
       ]
      },
      {
       "output_type": "stream",
       "stream": "stdout",
       "text": [
        "\n",
        " \n",
        "Record:  525\n",
        "title:   Achievement Gap\n",
        "author:  Dan Benedetti\n",
        "link:    http://www.bu.edu/library/guide/gap/\n",
        "published:  Mon, 16 May 2011 21:46:41 +0000\n",
        "summary:  \n",
        "email:  benededa @bu.edu\n",
        "status:  publish\n",
        "postmeta:  \n",
        "postType:  guide\n",
        "excerpt:  \n",
        " "
       ]
      },
      {
       "output_type": "stream",
       "stream": "stdout",
       "text": [
        "\n",
        " \n",
        "Record:  526\n",
        "title:   Children's and Young Adult Literature\n",
        "author:  Dan Benedetti\n",
        "link:    http://www.bu.edu/library/guide/childlit/\n",
        "published:  Mon, 16 May 2011 21:46:41 +0000\n",
        "summary:  \n",
        "email:  benededa @bu.edu\n",
        "status:  publish\n",
        "postmeta:  \n",
        "postType:  guide\n",
        "excerpt:  \n",
        " "
       ]
      },
      {
       "output_type": "stream",
       "stream": "stdout",
       "text": [
        "\n",
        " \n",
        "Record:  527\n",
        "title:   Resources For Teachers\n",
        "author:  Dan Benedetti\n",
        "link:    http://www.bu.edu/library/guide/teachers/\n",
        "published:  Mon, 16 May 2011 21:46:43 +0000\n",
        "summary:  \n",
        "email:  benededa @bu.edu\n",
        "status:  publish\n",
        "postmeta:  \n",
        "postType:  guide\n",
        "excerpt:  \n",
        " "
       ]
      },
      {
       "output_type": "stream",
       "stream": "stdout",
       "text": [
        "\n",
        " \n",
        "Record:  528\n",
        "title:   Business Ethics and Corporate Social Responsibility\n",
        "author:  Arlyne Jackson\n",
        "subject:  Management\n",
        "link:    http://www.bu.edu/library/guide/busethics/\n",
        "published:  Mon, 16 May 2011 21:46:44 +0000\n",
        "summary:  \n",
        "email:  ajac @bu.edu\n",
        "status:  publish\n",
        "postmeta:  \n",
        "postType:  guide\n",
        "excerpt:  \n",
        " "
       ]
      },
      {
       "output_type": "stream",
       "stream": "stdout",
       "text": [
        "\n",
        " \n",
        "Record:  529\n",
        "title:   Business Dictionaries & Encyclopedias\n",
        "link:    http://www.bu.edu/library/guide/online-facts-data/busdict/\n",
        "published:  Mon, 16 May 2011 21:46:44 +0000\n",
        "summary:  \n",
        "email:  fhasan @bu.edu\n",
        "status:  publish\n",
        "postmeta:  \n",
        "postType:  guide\n",
        "excerpt:  \n",
        " "
       ]
      },
      {
       "output_type": "stream",
       "stream": "stdout",
       "text": [
        "\n",
        " \n",
        "Record:  530\n",
        "title:   eCommerce & Internet Marketing\n",
        "author:  Terry Crystal\n",
        "subject:  Marketing\n",
        "link:    http://www.bu.edu/library/guide/marketing1/internet/\n",
        "published:  Mon, 16 May 2011 21:46:45 +0000\n",
        "summary:  \n",
        "email:  tcrystal @bu.edu\n",
        "status:  publish\n",
        "postmeta:  \n",
        "postType:  guide\n",
        "excerpt:  \n",
        " "
       ]
      },
      {
       "output_type": "stream",
       "stream": "stdout",
       "text": [
        "\n",
        " \n",
        "Record:  531\n",
        "title:   Human Resources Management and Organizational Behavior\n",
        "author:  Arlyne Jackson\n",
        "subject:  Management\n",
        "link:    http://www.bu.edu/library/guide/human/\n",
        "published:  Mon, 16 May 2011 21:46:45 +0000\n",
        "summary:  \n",
        "email:  ajac @bu.edu\n",
        "status:  publish\n",
        "postmeta:  \n",
        "postType:  guide\n",
        "excerpt:  \n",
        " "
       ]
      },
      {
       "output_type": "stream",
       "stream": "stdout",
       "text": [
        "\n",
        " \n",
        "Record:  532\n",
        "title:   Citing Business Sources\n",
        "author:  Kathleen Berger\n",
        "subject:  Management\n",
        "link:    http://www.bu.edu/library/guide/citation/\n",
        "published:  Mon, 16 May 2011 21:46:45 +0000\n",
        "summary:  \n",
        "email:  bergerkm @bu.edu\n",
        "status:  publish\n",
        "postmeta:  \n",
        "postType:  guide\n",
        "excerpt:  \n",
        " "
       ]
      },
      {
       "output_type": "stream",
       "stream": "stdout",
       "text": [
        "\n",
        " \n",
        "Record:  533\n",
        "title:   Investing\n",
        "author:  Farha Hasan\n",
        "subject:  Accounting &amp; Finance\n",
        "link:    http://www.bu.edu/library/guide/invest/\n",
        "published:  Mon, 16 May 2011 21:46:46 +0000\n",
        "summary:  \n",
        "email:  fhasan @bu.edu\n",
        "status:  publish\n",
        "postmeta:  \n",
        "postType:  guide\n",
        "excerpt:  \n",
        " "
       ]
      },
      {
       "output_type": "stream",
       "stream": "stdout",
       "text": [
        "\n",
        " \n",
        "Record:  534\n",
        "title:   Company Annual and Financial Reports\n",
        "author:  Arlyne Jackson\n",
        "subject:  Companies\n",
        "link:    http://www.bu.edu/library/guide/tenkay/\n",
        "published:  Mon, 16 May 2011 21:46:46 +0000\n",
        "summary:  \n",
        "email:  ajac @bu.edu\n",
        "status:  publish\n",
        "postmeta:  \n",
        "postType:  guide\n",
        "excerpt:  \n",
        " "
       ]
      },
      {
       "output_type": "stream",
       "stream": "stdout",
       "text": [
        "\n",
        " \n",
        "Record:  535\n",
        "title:   Financing Business Ventures\n",
        "author:  Arlyne Jackson\n",
        "subject:  Entrepreneurship\n",
        "link:    http://www.bu.edu/library/guide/financing/\n",
        "published:  Mon, 16 May 2011 21:46:46 +0000\n",
        "summary:  \n",
        "email:  ajac @bu.edu\n",
        "status:  publish\n",
        "postmeta:  \n",
        "postType:  guide\n",
        "excerpt:  \n",
        " "
       ]
      },
      {
       "output_type": "stream",
       "stream": "stdout",
       "text": [
        "\n",
        " \n",
        "Record:  536\n",
        "title:   Energy\n",
        "author:  Terry Crystal\n",
        "subject:  Industry\n",
        "link:    http://www.bu.edu/library/guide/energy/\n",
        "published:  Mon, 16 May 2011 21:46:47 +0000\n",
        "summary:  \n",
        "email:  tcrystal @bu.edu\n",
        "status:  publish\n",
        "postmeta:  \n",
        "postType:  guide\n",
        "excerpt:  \n",
        " "
       ]
      },
      {
       "output_type": "stream",
       "stream": "stdout",
       "text": [
        "\n",
        " \n",
        "Record:  537\n",
        "title:   Social Entrepreneurship\n",
        "author:  Arlyne Jackson\n",
        "subject:  Entrepreneurship\n",
        "link:    http://www.bu.edu/library/guide/socialent/\n",
        "published:  Mon, 16 May 2011 21:46:47 +0000\n",
        "summary:  \n",
        "email:  ajac @bu.edu\n",
        "status:  publish\n",
        "postmeta:  \n",
        "postType:  guide\n",
        "excerpt:  \n",
        " "
       ]
      },
      {
       "output_type": "stream",
       "stream": "stdout",
       "text": [
        "\n",
        " \n",
        "Record:  538\n",
        "title:   Accounting and Auditing\n",
        "author:  Arlyne Jackson\n",
        "subject:  Accounting &amp; Finance\n",
        "link:    http://www.bu.edu/library/guide/accounting/\n",
        "published:  Mon, 16 May 2011 21:46:48 +0000\n",
        "summary:  \n",
        "email:  ajac @bu.edu\n",
        "status:  publish\n",
        "postmeta:  \n",
        "postType:  guide\n",
        "excerpt:  \n",
        " "
       ]
      },
      {
       "output_type": "stream",
       "stream": "stdout",
       "text": [
        "\n",
        " \n",
        "Record:  539\n",
        "title:   Entrepreneurship and New Ventures\n",
        "author:  Arlyne Jackson\n",
        "subject:  Entrepreneurship\n",
        "link:    http://www.bu.edu/library/guide/entre2/\n",
        "published:  Mon, 16 May 2011 21:46:48 +0000\n",
        "summary:  \n",
        "email:  ajac @bu.edu\n",
        "status:  publish\n",
        "postmeta:  \n",
        "postType:  guide\n",
        "excerpt:  \n",
        " "
       ]
      },
      {
       "output_type": "stream",
       "stream": "stdout",
       "text": [
        "\n",
        " \n",
        "Record:  540\n",
        "title:   Resources on Sustainability Issues\n",
        "author:  Farha Hasan\n",
        "subject:  Management\n",
        "link:    http://www.bu.edu/library/guide/sustainability/\n",
        "published:  Mon, 16 May 2011 21:46:48 +0000\n",
        "summary:  \n",
        "email:  fhasan @bu.edu\n",
        "status:  publish\n",
        "postmeta:  \n",
        "postType:  guide\n",
        "excerpt:  \n",
        " "
       ]
      },
      {
       "output_type": "stream",
       "stream": "stdout",
       "text": [
        "\n",
        " \n",
        "Record:  541\n",
        "title:   Bloomberg Essentials Online Training Program\n",
        "author:  Kathleen Berger\n",
        "link:    http://www.bu.edu/library/guide/bloombergtutorial/bloombergessentials/\n",
        "published:  Mon, 16 May 2011 21:46:49 +0000\n",
        "summary:  \n",
        "email:  fhasan @bu.edu\n",
        "status:  publish\n",
        "postmeta:  \n",
        "postType:  guide\n",
        "excerpt:  \n",
        " "
       ]
      },
      {
       "output_type": "stream",
       "stream": "stdout",
       "text": [
        "\n",
        " \n",
        "Record:  542\n",
        "title:   Resources For Analyst Reports\n",
        "author:  Farha Hasan\n",
        "subject:  Accounting &amp; Finance\n",
        "link:    http://www.bu.edu/library/guide/analystreports/\n",
        "published:  Mon, 16 May 2011 21:46:49 +0000\n",
        "summary:  \n",
        "email:  fhasan @bu.edu\n",
        "status:  publish\n",
        "postmeta:  \n",
        "postType:  guide\n",
        "excerpt:  \n",
        " "
       ]
      },
      {
       "output_type": "stream",
       "stream": "stdout",
       "text": [
        "\n",
        " \n",
        "Record:  543\n",
        "title:   Academics\n",
        "link:    http://www.bu.edu/library/guide/online-facts-data/academics/\n",
        "published:  Mon, 16 May 2011 21:46:52 +0000\n",
        "summary:  \n",
        "email:  bergerkm @bu.edu\n",
        "status:  publish\n",
        "postmeta:  \n",
        "postType:  guide\n",
        "excerpt:  \n",
        " "
       ]
      },
      {
       "output_type": "stream",
       "stream": "stdout",
       "text": [
        "\n",
        " \n",
        "Record:  544\n",
        "title:   Job Search\n",
        "author:  Terry Crystal\n",
        "subject:  Careers\n",
        "link:    http://www.bu.edu/library/guide/career/books-2/\n",
        "published:  Mon, 16 May 2011 21:46:56 +0000\n",
        "summary:  \n",
        "email:  tcrystal @bu.edu\n",
        "status:  publish\n",
        "postmeta:  \n",
        "postType:  guide\n",
        "excerpt:  \n",
        " "
       ]
      },
      {
       "output_type": "stream",
       "stream": "stdout",
       "text": [
        "\n",
        " \n",
        "Record:  545\n",
        "title:   Career: Health Sector Management\n",
        "author:  Terry Crystal\n",
        "subject:  Careers\n",
        "link:    http://www.bu.edu/library/guide/career/health-management/\n",
        "published:  Mon, 16 May 2011 21:46:56 +0000\n",
        "summary:  \n",
        "email:  tcrystal @bu.edu\n",
        "status:  publish\n",
        "postmeta:  \n",
        "postType:  guide\n",
        "excerpt:  \n",
        " "
       ]
      },
      {
       "output_type": "stream",
       "stream": "stdout",
       "text": [
        "\n",
        " \n",
        "Record:  546\n",
        "title:   Career: Consulting\n",
        "author:  Terry Crystal\n",
        "subject:  Careers\n",
        "link:    http://www.bu.edu/library/guide/career/consulting/\n",
        "published:  Mon, 16 May 2011 21:46:56 +0000\n",
        "summary:  \n",
        "email:  tcrystal @bu.edu\n",
        "status:  publish\n",
        "postmeta:  \n",
        "postType:  guide\n",
        "excerpt:  \n",
        " "
       ]
      },
      {
       "output_type": "stream",
       "stream": "stdout",
       "text": [
        "\n",
        " \n",
        "Record:  547\n",
        "title:   Career: Entrepreneurship\n",
        "author:  Terry Crystal\n",
        "subject:  Careers\n",
        "link:    http://www.bu.edu/library/guide/career/entrepreneurship/\n",
        "published:  Mon, 16 May 2011 21:46:57 +0000\n",
        "summary:  \n",
        "email:  tcrystal @bu.edu\n",
        "status:  publish\n",
        "postmeta:  \n",
        "postType:  guide\n",
        "excerpt:  \n",
        " "
       ]
      },
      {
       "output_type": "stream",
       "stream": "stdout",
       "text": [
        "\n",
        " \n",
        "Record:  548\n",
        "title:   Career: Finance & Investing\n",
        "author:  Terry Crystal\n",
        "subject:  Careers\n",
        "link:    http://www.bu.edu/library/guide/career/finance/\n",
        "published:  Mon, 16 May 2011 21:46:57 +0000\n",
        "summary:  \n",
        "email:  tcrystal @bu.edu\n",
        "status:  publish\n",
        "postmeta:  \n",
        "postType:  guide\n",
        "excerpt:  \n",
        " "
       ]
      },
      {
       "output_type": "stream",
       "stream": "stdout",
       "text": [
        "\n",
        " \n",
        "Record:  549\n",
        "title:   Career: Marketing\n",
        "author:  Terry Crystal\n",
        "subject:  Careers\n",
        "link:    http://www.bu.edu/library/guide/career/career-marketing/\n",
        "published:  Mon, 16 May 2011 21:46:57 +0000\n",
        "summary:  \n",
        "email:  tcrystal @bu.edu\n",
        "status:  publish\n",
        "postmeta:  \n",
        "postType:  guide\n",
        "excerpt:  \n",
        " "
       ]
      },
      {
       "output_type": "stream",
       "stream": "stdout",
       "text": [
        "\n",
        " \n",
        "Record:  550\n",
        "title:   Career: Nonprofits & Public Sector\n",
        "author:  Terry Crystal\n",
        "subject:  Careers\n",
        "link:    http://www.bu.edu/library/guide/career/nonprofit/\n",
        "published:  Mon, 16 May 2011 21:46:57 +0000\n",
        "summary:  \n",
        "email:  tcrystal @bu.edu\n",
        "status:  publish\n",
        "postmeta:  \n",
        "postType:  guide\n",
        "excerpt:  \n",
        " "
       ]
      },
      {
       "output_type": "stream",
       "stream": "stdout",
       "text": [
        "\n",
        " \n",
        "Record:  551\n",
        "title:   Career: Information Technology\n",
        "author:  Terry Crystal\n",
        "subject:  Careers\n",
        "link:    http://www.bu.edu/library/guide/career/it/\n",
        "published:  Mon, 16 May 2011 21:46:58 +0000\n",
        "summary:  \n",
        "email:  tcrystal @bu.edu\n",
        "status:  publish\n",
        "postmeta:  \n",
        "postType:  guide\n",
        "excerpt:  \n",
        " "
       ]
      },
      {
       "output_type": "stream",
       "stream": "stdout",
       "text": [
        "\n",
        " \n",
        "Record:  552\n",
        "title:   Career: How To Analyze Your Industry\n",
        "author:  Terry Crystal\n",
        "subject:  Careers\n",
        "link:    http://www.bu.edu/library/guide/career/industry-analysis/\n",
        "published:  Mon, 16 May 2011 21:46:58 +0000\n",
        "summary:  \n",
        "email:  tcrystal @bu.edu\n",
        "status:  publish\n",
        "postmeta:  \n",
        "postType:  guide\n",
        "excerpt:  \n",
        " "
       ]
      }
     ],
     "prompt_number": "*"
    },
    {
     "cell_type": "code",
     "collapsed": false,
     "input": [],
     "language": "python",
     "metadata": {},
     "outputs": []
    }
   ],
   "metadata": {}
  }
 ]
}